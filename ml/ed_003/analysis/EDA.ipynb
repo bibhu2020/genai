{
 "cells": [
  {
   "cell_type": "markdown",
   "id": "ccff6256",
   "metadata": {},
   "source": [
    "## Objective\n",
    "The objective of this project is build a machine learning model that could accurately predict the likelyhood of a person would make a purchase or not. The model shall be built on a dataset containing the person's demography and income."
   ]
  },
  {
   "cell_type": "code",
   "execution_count": 1,
   "id": "e61ee8d0",
   "metadata": {},
   "outputs": [
    {
     "name": "stdout",
     "output_type": "stream",
     "text": [
      "\u001b[2mUsing Python 3.11.13 environment at: /home/azureuser/ws/genai/ml/ed_003/.venv\u001b[0m\n",
      "\u001b[2mAudited \u001b[1m28 packages\u001b[0m \u001b[2min 201ms\u001b[0m\u001b[0m\n"
     ]
    }
   ],
   "source": [
    "!uv pip install -r ../requirements.txt"
   ]
  },
  {
   "cell_type": "code",
   "execution_count": 2,
   "id": "eb7ae282",
   "metadata": {},
   "outputs": [],
   "source": [
    "## Load the required libraries\n",
    "import pandas as pd\n",
    "import numpy as np\n",
    "from sklearn.model_selection import train_test_split\n",
    "from sklearn.linear_model import LogisticRegression\n",
    "from sklearn.metrics import accuracy_score, confusion_matrix, classification_report\n"
   ]
  },
  {
   "cell_type": "code",
   "execution_count": 3,
   "id": "747ef843",
   "metadata": {},
   "outputs": [
    {
     "data": {
      "text/html": [
       "<div>\n",
       "<style scoped>\n",
       "    .dataframe tbody tr th:only-of-type {\n",
       "        vertical-align: middle;\n",
       "    }\n",
       "\n",
       "    .dataframe tbody tr th {\n",
       "        vertical-align: top;\n",
       "    }\n",
       "\n",
       "    .dataframe thead th {\n",
       "        text-align: right;\n",
       "    }\n",
       "</style>\n",
       "<table border=\"1\" class=\"dataframe\">\n",
       "  <thead>\n",
       "    <tr style=\"text-align: right;\">\n",
       "      <th></th>\n",
       "      <th>User ID</th>\n",
       "      <th>Gender</th>\n",
       "      <th>Age</th>\n",
       "      <th>EstimatedSalary</th>\n",
       "      <th>Purchased</th>\n",
       "    </tr>\n",
       "  </thead>\n",
       "  <tbody>\n",
       "    <tr>\n",
       "      <th>0</th>\n",
       "      <td>15624510</td>\n",
       "      <td>Male</td>\n",
       "      <td>19</td>\n",
       "      <td>19000</td>\n",
       "      <td>No</td>\n",
       "    </tr>\n",
       "    <tr>\n",
       "      <th>1</th>\n",
       "      <td>15810944</td>\n",
       "      <td>Male</td>\n",
       "      <td>35</td>\n",
       "      <td>20000</td>\n",
       "      <td>No</td>\n",
       "    </tr>\n",
       "    <tr>\n",
       "      <th>2</th>\n",
       "      <td>15668575</td>\n",
       "      <td>Female</td>\n",
       "      <td>26</td>\n",
       "      <td>43000</td>\n",
       "      <td>No</td>\n",
       "    </tr>\n",
       "    <tr>\n",
       "      <th>3</th>\n",
       "      <td>15603246</td>\n",
       "      <td>Female</td>\n",
       "      <td>27</td>\n",
       "      <td>57000</td>\n",
       "      <td>No</td>\n",
       "    </tr>\n",
       "    <tr>\n",
       "      <th>4</th>\n",
       "      <td>15804002</td>\n",
       "      <td>Male</td>\n",
       "      <td>19</td>\n",
       "      <td>76000</td>\n",
       "      <td>No</td>\n",
       "    </tr>\n",
       "  </tbody>\n",
       "</table>\n",
       "</div>"
      ],
      "text/plain": [
       "    User ID  Gender  Age  EstimatedSalary Purchased\n",
       "0  15624510    Male   19            19000        No\n",
       "1  15810944    Male   35            20000        No\n",
       "2  15668575  Female   26            43000        No\n",
       "3  15603246  Female   27            57000        No\n",
       "4  15804002    Male   19            76000        No"
      ]
     },
     "execution_count": 3,
     "metadata": {},
     "output_type": "execute_result"
    }
   ],
   "source": [
    "## Load the dataset\n",
    "data = pd.read_csv('../extracted_data/social_network_ads_v2.csv')\n",
    "data.head()"
   ]
  },
  {
   "cell_type": "code",
   "execution_count": 7,
   "id": "63984f71",
   "metadata": {},
   "outputs": [],
   "source": [
    "# Drop the 'User ID' column as it is not needed for analysis\n",
    "data.drop('User ID', axis=1, inplace=True)"
   ]
  },
  {
   "cell_type": "code",
   "execution_count": 8,
   "id": "04eed0f5",
   "metadata": {},
   "outputs": [
    {
     "name": "stdout",
     "output_type": "stream",
     "text": [
      "Dataset shape: (400, 4)\n",
      "Columns: Index(['Gender', 'Age', 'EstimatedSalary', 'Purchased'], dtype='object')\n",
      "Data types:\n",
      " Gender             object\n",
      "Age                 int64\n",
      "EstimatedSalary     int64\n",
      "Purchased          object\n",
      "dtype: object\n"
     ]
    }
   ],
   "source": [
    "## Perform basic data exploration\n",
    "print(\"Dataset shape:\", data.shape)\n",
    "print(\"Columns:\", data.columns)\n",
    "print(\"Data types:\\n\", data.dtypes)     "
   ]
  },
  {
   "cell_type": "markdown",
   "id": "90355563",
   "metadata": {},
   "source": [
    "### Perform Analysis on Numerical Features"
   ]
  },
  {
   "cell_type": "code",
   "execution_count": 4,
   "id": "364c8de4",
   "metadata": {},
   "outputs": [
    {
     "name": "stdout",
     "output_type": "stream",
     "text": [
      "Number of duplicate rows: 0\n",
      "Missing values:\n",
      " User ID            0\n",
      "Gender             0\n",
      "Age                0\n",
      "EstimatedSalary    0\n",
      "Purchased          0\n",
      "dtype: int64\n"
     ]
    }
   ],
   "source": [
    "# Step1: Check for duplicates\n",
    "duplicates = data.duplicated().sum()\n",
    "print(f\"Number of duplicate rows: {duplicates}\")\n",
    "# Step2: Check for missing values\n",
    "print(\"Missing values:\\n\", data.isnull().sum())     "
   ]
  },
  {
   "cell_type": "code",
   "execution_count": 5,
   "id": "e855624d",
   "metadata": {},
   "outputs": [
    {
     "name": "stdout",
     "output_type": "stream",
     "text": [
      "Descriptive statistics:\n",
      "             User ID         Age  EstimatedSalary\n",
      "count  4.000000e+02  400.000000       400.000000\n",
      "mean   1.569154e+07   37.655000     69742.500000\n",
      "std    7.165832e+04   10.482877     34096.960282\n",
      "min    1.556669e+07   18.000000     15000.000000\n",
      "25%    1.562676e+07   29.750000     43000.000000\n",
      "50%    1.569434e+07   37.000000     70000.000000\n",
      "75%    1.575036e+07   46.000000     88000.000000\n",
      "max    1.581524e+07   60.000000    150000.000000\n"
     ]
    }
   ],
   "source": [
    "# Step3: Perform basic statistical analysis\n",
    "print(\"Descriptive statistics:\\n\", data.describe())     "
   ]
  },
  {
   "cell_type": "code",
   "execution_count": 6,
   "id": "6271d5b7",
   "metadata": {},
   "outputs": [
    {
     "name": "stdout",
     "output_type": "stream",
     "text": [
      "Age                0.231337\n",
      "EstimatedSalary    0.495024\n",
      "dtype: float64\n"
     ]
    }
   ],
   "source": [
    "# Step4: Check Skewness of 'Age' and 'EstimatedSalary'\n",
    "import pandas as pd\n",
    "print(data[['Age', 'EstimatedSalary']].skew())"
   ]
  },
  {
   "cell_type": "markdown",
   "id": "9028e1ae",
   "metadata": {},
   "source": [
    "#### Numerical Data Analysis Findings - 1\n",
    "- Both Age and EstimatedSalary has no null or missing values\n",
    "\n",
    "- Mean Age is 37.65 and Median Age (i.e. 50%) is 37. Because mean and median is aligning, the Age data is symmetric\n",
    "- Age Range (Max - Min) is 42. \n",
    "- Age IQR (75% - 25%) is 16.25. \n",
    "- Relative IQR = IQR/Median = 16.25/37 = 0.439 = 43.9% of the median\n",
    "- 43.9% relative spread = moderate variation.\n",
    "\n",
    "- Mean Salary is 69742.50 and Median Salary is 70000. Median is close to mean. Suggesting minimal skew.\n",
    "- Salary Range (Max-Min) is 135K. \n",
    "- Salary IQR (75% - 25%) is 45K.\n",
    "- Relative IQR = IQR/Median = 45K/70K = 0.643 = 64.3% of the median \n",
    "- 64% relative spread = high variation.\n",
    "\n",
    "    - \n",
    "\n",
    "**Note:**\n",
    "\n",
    "- High relative spread is fine if you are exploring or want to preserve natural differences, no action is needed. Many ML models (like tree-based models: Random Forest, XGBoost) handle varying spreads fine.\n",
    "\n",
    "- If you’ll use distance-based models (e.g., KNN, SVM with RBF kernel, clustering) or linear models without regularization, then features with larger spreads can dominate. \n",
    "\n",
    "- Apply scaling (StandardScaler or MinMaxScaler).\n",
    "\n",
    "- If the data is right-skewed, apply logarithim transformation first, and z-scaling if needed.\n",
    "\n",
    "- If the data is left-skewed, right-skew it first and then apply logarithim transformation."
   ]
  },
  {
   "cell_type": "code",
   "execution_count": 7,
   "id": "a574ab56",
   "metadata": {},
   "outputs": [
    {
     "name": "stdout",
     "output_type": "stream",
     "text": [
      "Age outliers count: 0\n",
      "Salary outliers count: 0\n"
     ]
    }
   ],
   "source": [
    "# Step5: Check outliers in 'Age' and 'EstimatedSalary'\n",
    "def detect_outliers_iqr(series):\n",
    "    Q1 = series.quantile(0.25)\n",
    "    Q3 = series.quantile(0.75)\n",
    "    IQR = Q3 - Q1\n",
    "    lower_bound = Q1 - 1.5 * IQR\n",
    "    upper_bound = Q3 + 1.5 * IQR\n",
    "    outliers = series[(series < lower_bound) | (series > upper_bound)]\n",
    "    return outliers\n",
    "\n",
    "age_outliers = detect_outliers_iqr(data['Age'])\n",
    "salary_outliers = detect_outliers_iqr(data['EstimatedSalary'])\n",
    "\n",
    "print(f\"Age outliers count: {len(age_outliers)}\")\n",
    "print(f\"Salary outliers count: {len(salary_outliers)}\")\n",
    "\n",
    "# Interpretation:\n",
    "# If the count of outliers is significant, it may indicate that the data has extreme values\n",
    "# that could affect the model's performance. Further investigation is needed to determine\n",
    "# whether to remove or treat these outliers.    \n",
    "\n",
    "\n"
   ]
  },
  {
   "cell_type": "markdown",
   "id": "2a77ec6a",
   "metadata": {},
   "source": [
    "#### Numerical Data Analysis -2\n",
    "- Age skewness is 0.23. It says faily symmetric.\n",
    "- Age has no outlier. \n",
    "- Low skewness and no outlier. It means keep the data as is.\n",
    "\n",
    "- Salary skewness is 0.49 (less than 0.5). It says faily symmetric.\n",
    "- Salary has no outlier. \n",
    "- Low skewness and no outlier. It means keep the data as is.\n",
    "  \n",
    "\n",
    "**Skewness Interpretation:**\n",
    "```\n",
    "-   ≈ 0 → fairly symmetric\n",
    "-   > 0.5 → moderate right skew\n",
    "-   > 1 → strong right skew\n",
    "-   < -0.5 → moderate left skew\n",
    "-   < -1 → strong left skew\n",
    "```\n",
    "\n",
    "**Potential Insight:**\n",
    "```\n",
    "- High skew + many outliers → transform the data (e.g., log scale for salary).\n",
    "- Low skew + few outliers → keep as is.\n",
    "- Low skew + many outliers → check if outliers are real or data entry errors.\n",
    "```"
   ]
  },
  {
   "cell_type": "markdown",
   "id": "5ee85546",
   "metadata": {},
   "source": [
    "### Perform Analysis on Categorical Features"
   ]
  },
  {
   "cell_type": "code",
   "execution_count": 19,
   "id": "37d8090d",
   "metadata": {},
   "outputs": [
    {
     "name": "stdout",
     "output_type": "stream",
     "text": [
      "Gender\n",
      "Female    51.0\n",
      "Male      49.0\n",
      "Name: proportion, dtype: float64\n",
      "Purchased\n",
      "No     64.25\n",
      "Yes    35.75\n",
      "Name: proportion, dtype: float64\n"
     ]
    }
   ],
   "source": [
    "print(data['Gender'].value_counts(normalize=True) * 100)\n",
    "print(data['Purchased'].value_counts(normalize=True) * 100)"
   ]
  },
  {
   "cell_type": "markdown",
   "id": "886bc4f1",
   "metadata": {},
   "source": [
    "#### Categorical Data Analysis -1\n",
    "- Gender has 51% Female and 49% Male. \n",
    "- Nearly perfectly balanced → no concern about gender imbalance in the dataset. \n",
    "- This is good for models — you won’t have bias simply from sampling imbalance.\n",
    "\n",
    "- Purchased has 64.25% No, and 35.75% Yes. \n",
    "- The target variable is moderately imbalanced — about 2:1 ratio of “No” to “Yes.”\n",
    "- Not extreme enough to require heavy rebalancing, but in classification tasks:\n",
    "    - Consider using stratified sampling when splitting train/test.\n",
    "    - Track metrics like precision, recall, F1 instead of just accuracy.\n"
   ]
  },
  {
   "cell_type": "code",
   "execution_count": 11,
   "id": "dd35fa6a",
   "metadata": {},
   "outputs": [
    {
     "name": "stdout",
     "output_type": "stream",
     "text": [
      "Distribution of 'Purchased':\n",
      " Purchased\n",
      "No     257\n",
      "Yes    143\n",
      "Name: count, dtype: int64\n"
     ]
    },
    {
     "data": {
      "text/plain": [
       "<Axes: xlabel='Age', ylabel='count'>"
      ]
     },
     "execution_count": 11,
     "metadata": {},
     "output_type": "execute_result"
    },
    {
     "data": {
      "image/png": "[encoded data removed]",
      "text/plain": [
       "<Figure size 640x480 with 1 Axes>"
      ]
     },
     "metadata": {},
     "output_type": "display_data"
    }
   ],
   "source": [
    "## Categogrical Data Analysis\n",
    "# Check the distribution of the 'Purchased' column\n",
    "print(\"Distribution of 'Purchased':\\n\", data['Purchased'].value_counts())\n",
    "# Visualize the distribution of 'Age' and 'EstimatedSalary'\n",
    "import matplotlib.pyplot as plt\n",
    "import seaborn as sns\n",
    "sns.countplot(x='Age', hue='Purchased', data=data)  "
   ]
  },
  {
   "cell_type": "markdown",
   "id": "46c6f47f",
   "metadata": {},
   "source": [
    "## Categorical Analysis Outcomes\n",
    "- No imbalancing observed in Gender data.\n",
    "- The target feature (Purchased) looks bit imbalanced with 65% No, and 35% yes. Because, this is target feature, consider using stratified sampling to avoid any biasing.\n",
    "    - Track metrics like precision, recall, F1 instead of just accuracy.\n",
    "- Age seems to have un-even impact.\n",
    "    - Ages 18–40: Mostly No purchases, very few Yes.\n",
    "    - Ages 45–60: Proportion of Yes increases noticeably.\n",
    "    - Ages 50+: Purchases are more balanced, sometimes more Yes than No.\n",
    "- Consider binning ages into groups (e.g., 18–25, 26–35, etc.) to reduce noise from small category counts."
   ]
  },
  {
   "cell_type": "markdown",
   "id": "3f3c58c3",
   "metadata": {},
   "source": [
    "# Potential Insight / Actions\n",
    "- Since, we are going to use \"LogisticRegression\" algorithm, Its important to normalize the data.\n",
    "- Apply logarithm scaling to remove the right-skewing from salary. And then apply the z-scaling. **Make this part of the ML pipeline**\n",
    "- Use stratified sampling to avoid imbalancing in Purchased feature. stratified sampling ensures that equal portion of class is distributed between the training and testing data.\n",
    "- Track metrics like precision, recall, F1 instead of just accuracy."
   ]
  }
 ],
 "metadata": {
  "kernelspec": {
   "display_name": "Python 3",
   "language": "python",
   "name": "python3"
  },
  "language_info": {
   "codemirror_mode": {
    "name": "ipython",
    "version": 3
   },
   "file_extension": ".py",
   "mimetype": "text/x-python",
   "name": "python",
   "nbconvert_exporter": "python",
   "pygments_lexer": "ipython3",
   "version": "3.11.13"
  }
 },
 "nbformat": 4,
 "nbformat_minor": 5
}
