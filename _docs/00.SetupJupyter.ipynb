{
 "cells": [
  {
   "cell_type": "markdown",
   "id": "66fddc58",
   "metadata": {},
   "source": [
    "# 🚀 Setting Up a Jupyter Environment in WSL\n",
    "\n",
    "This guide outlines the steps to set up a clean Python virtual environment and install Jupyter Notebook support within Windows Subsystem for Linux (WSL).\n",
    "\n",
    "## 1. Prerequisites: VS Code Extensions\n",
    "\n",
    "Before you begin, make sure you have the following Visual Studio Code extensions installed:\n",
    "\n",
    "*   **Python:** Provides rich support for the Python language, including linting, debugging, and IntelliSense.\n",
    "*   **Jupyter:** Enables Jupyter Notebook support within VS Code.\n",
    "\n",
    "## 2. Environment Setup\n",
    "\n",
    "Follow these steps in your WSL terminal to create and configure your environment.\n",
    "\n",
    "### Step 1: Clean Up Existing Environment (Optional)\n",
    "\n",
    "If you have a previous virtual environment (e.g., `.env`), it's a good practice to remove it to start fresh."
   ]
  },
  {
   "cell_type": "code",
   "execution_count": null,
   "id": "34c6c408",
   "metadata": {},
   "outputs": [],
   "source": [
    "rm -rf .env"
   ]
  },
  {
   "cell_type": "markdown",
   "id": "775d2047",
   "metadata": {},
   "source": [
    "### Step 2: Install Python\n",
    "\n",
    "Ensure you have the latest version of Python installed. For Debian-based distributions (like Ubuntu), it's recommended to install `python3-full`."
   ]
  },
  {
   "cell_type": "code",
   "execution_count": null,
   "id": "a8a342c5",
   "metadata": {},
   "outputs": [],
   "source": [
    "sudo apt update\n",
    "sudo apt install python3-full"
   ]
  },
  {
   "cell_type": "markdown",
   "id": "3d856b5d",
   "metadata": {},
   "source": [
    "### Step 3: Create a Virtual Environment\n",
    "\n",
    "Create a new virtual environment. Using `.env` as the name is a common convention."
   ]
  },
  {
   "cell_type": "code",
   "execution_count": null,
   "id": "8b7fca78",
   "metadata": {},
   "outputs": [],
   "source": [
    "python3 -m venv .env"
   ]
  },
  {
   "cell_type": "markdown",
   "id": "0fe3a82f",
   "metadata": {},
   "source": [
    "### Step 4: Activate the Environment\n",
    "\n",
    "Activate the newly created environment. Your terminal prompt should change to indicate that you are now inside the virtual environment."
   ]
  },
  {
   "cell_type": "code",
   "execution_count": null,
   "id": "6d745fbd",
   "metadata": {},
   "outputs": [],
   "source": [
    "source ./.env/bin/activate"
   ]
  },
  {
   "cell_type": "markdown",
   "id": "20761930",
   "metadata": {
    "lines_to_next_cell": 0
   },
   "source": [
    "To exit the environment later, simply run:"
   ]
  },
  {
   "cell_type": "code",
   "execution_count": null,
   "id": "8737160e",
   "metadata": {},
   "outputs": [],
   "source": [
    "deactivate"
   ]
  },
  {
   "cell_type": "markdown",
   "id": "ef08f139",
   "metadata": {},
   "source": [
    "### Step 5: Verify Python Version\n",
    "\n",
    "Check the Python version to confirm you are using the one from your virtual environment."
   ]
  },
  {
   "cell_type": "code",
   "execution_count": null,
   "id": "062988ae",
   "metadata": {},
   "outputs": [],
   "source": [
    "python --version"
   ]
  },
  {
   "cell_type": "markdown",
   "id": "a7bc17cd",
   "metadata": {},
   "source": [
    "## 3. Install Jupyter Kernel\n",
    "\n",
    "With your environment activated, install the `ipykernel` package. This package provides the Jupyter kernel for your specific Python environment."
   ]
  },
  {
   "cell_type": "code",
   "execution_count": null,
   "id": "ccb6be59",
   "metadata": {},
   "outputs": [],
   "source": [
    "# It's good practice to clear the pip cache before a fresh install\n",
    "pip cache purge\n",
    "\n",
    "# Install or update the ipykernel\n",
    "python -m pip install ipykernel -U --force-reinstall"
   ]
  },
  {
   "cell_type": "markdown",
   "id": "e2a6b84b",
   "metadata": {},
   "source": [
    "## 4. Create and Run a Notebook\n",
    "\n",
    "You are now ready to create and run Jupyter Notebooks!\n",
    "\n",
    "1.  Create a new file with a `.ipynb` extension (e.g., `MyNotebook.ipynb`).\n",
    "2.  When you open the notebook, VS Code will prompt you to **select a kernel**.\n",
    "3.  Choose the Python environment you just created (e.g., `Python 3.x.x ('.env')`).\n",
    "\n",
    "You can now write and execute your Python code in the notebook cells."
   ]
  }
 ],
 "metadata": {
  "jupytext": {
   "cell_metadata_filter": "-all",
   "main_language": "bash",
   "notebook_metadata_filter": "-all"
  }
 },
 "nbformat": 4,
 "nbformat_minor": 5
}
