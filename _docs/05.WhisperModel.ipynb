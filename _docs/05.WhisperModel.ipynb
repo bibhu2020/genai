{
 "cells": [
  {
   "cell_type": "markdown",
   "id": "d1b74175",
   "metadata": {},
   "source": [
    "# 🎙️ OpenAI's Whisper Model\n",
    "\n",
    "**Whisper** is a state-of-the-art speech-to-text model developed by OpenAI. It is designed to accurately transcribe spoken audio into written text and offers a range of powerful capabilities.\n",
    "\n",
    "### Key Features:\n",
    "\n",
    "-   **🗣️ Speech-to-Text:** Accurately transcribe audio from various sources.\n",
    "-   **🌐 Language Translation:** Translate audio from one language into another.\n",
    "-   **📝 Prompt-Guided Output:** Provide prompts to the model to guide the transcription and ensure the desired format and style.\n",
    "-   **📁 Supported File Formats:** Works with a variety of common audio and video formats, including `mp3`, `mp4`, `wav`, and `webm`.\n",
    "\n",
    "---\n",
    "\n",
    "## 🚀 Two Powerful Options for Using Whisper\n",
    "\n",
    "When using Whisper within the Azure ecosystem, you have two primary options, each with its own strengths:\n",
    "\n",
    "### 1. Azure OpenAI Service\n",
    "\n",
    "-   **✅ Best for:** Quick and easy transcription of smaller audio files.\n",
    "-   **Limitation:** Supports files up to **25 MB**.\n",
    "-   **Limitation:** Does not support **diarization** (identifying who spoke which words).\n",
    "\n",
    "### 2. Azure AI Speech SDK\n",
    "\n",
    "-   **✅ Best for:** Large-scale, production-level transcription tasks.\n",
    "-   **Advantage:** Can transcribe files up to **1 GB**.\n",
    "-   **Advantage:** Supports advanced features like **diarization** and real-time transcription.\n",
    "\n",
    "---\n",
    "\n",
    "## 🛠️ Setting Up Azure AI Speech\n",
    "\n",
    "To get started with the more powerful Azure AI Speech service, follow these steps:\n",
    "\n",
    "1.  **Navigate to the Azure Portal.**\n",
    "2.  Go to **Azure AI Services** > **Speech service**.\n",
    "3.  Click **Create** to provision a new Speech service resource.\n",
    "4.  Provide a unique name for your service (e.g., `genai-poc-eastus-speech`).\n",
    "\n",
    "Once created, you will have access to the keys and endpoint needed to use the Azure AI Speech SDK in your applications."
   ]
  }
 ],
 "metadata": {
  "jupytext": {
   "cell_metadata_filter": "-all",
   "main_language": "python",
   "notebook_metadata_filter": "-all"
  }
 },
 "nbformat": 4,
 "nbformat_minor": 5
}
