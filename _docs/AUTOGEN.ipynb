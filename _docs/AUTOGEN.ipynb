{
 "cells": [
  {
   "cell_type": "markdown",
   "id": "36c5087a",
   "metadata": {},
   "source": [
    "# 🤖 Microsoft AutoGen: A Framework for Multi-Agent AI\n",
    "\n",
    "**AutoGen** is a powerful framework from Microsoft Research that simplifies the creation, orchestration, and automation of complex workflows using Large Language Models (LLMs). It enables you to build applications with customizable and conversable **agents** that can collaborate to solve tasks.\n",
    "\n",
    "These agents leverage the strengths of advanced LLMs (like GPT-4) while mitigating their limitations by integrating with human feedback and external tools.\n",
    "\n",
    "![Multi-Agent System](images/agent.png)\n",
    "\n",
    "---\n",
    "\n",
    "## 📚 Essential Resources\n",
    "\n",
    "-   **Official Documentation:** [Getting Started with AutoGen](https://microsoft.github.io/autogen/docs/getting-started)\n",
    "-   **YouTube Tutorial Series:** [AutoGen Explained](https://www.youtube.com/watch?v=V2qZ_lgxTzg&list=PLp9pLaqAQbY2vUjGEVgz8yAOdJly3AQb)\n",
    "-   **Code Examples:** [Official AutoGen Examples](https://microsoft.github.io/autogen/docs/examples)\n",
    "\n",
    "---\n",
    "\n",
    "## 🤔 What is an Agent in AutoGen?\n",
    "\n",
    "In the context of AutoGen, an **agent** is a system that uses an LLM as its core reasoning engine. It can:\n",
    "\n",
    "1.  **Reason:** Determine which actions to take to achieve a goal.\n",
    "2.  **Act:** Execute those actions by calling tools or functions.\n",
    "3.  **Observe:** Take the results of those actions and feed them back to the LLM.\n",
    "4.  **Iterate:** Decide if more actions are needed or if the task is complete.\n",
    "\n",
    "This process, often called a **Reason-Act Loop**, allows agents to tackle complex problems that a standalone LLM cannot.\n",
    "\n",
    "---\n",
    "\n",
    "## 🎭 Types of Agents in AutoGen\n",
    "\n",
    "AutoGen provides several pre-built agent types that can be combined to create sophisticated multi-agent systems:\n",
    "\n",
    "-   **ConversableAgent:** The base class for all agents, enabling them to send and receive messages.\n",
    "-   **AssistantAgent:** A specialized agent designed to act as an AI assistant, capable of writing and executing code.\n",
    "-   **UserProxyAgent:** An agent that can act as a proxy for a human, soliciting input when required.\n",
    "-   **GroupChatManager:** An agent that orchestrates conversations between a group of other agents.\n",
    "-   **Specialized Agents:**\n",
    "    -   `CodeGenerationAgent`\n",
    "    -   `CodeReviewerAgent`\n",
    "    -   `ValidatorAgent`\n",
    "-   **Custom Agents:** You can create your own agents by extending the `ConversableAgent` class.\n",
    "\n",
    "---\n",
    "\n",
    "## 🛑 How to End a Conversation\n",
    "\n",
    "In a multi-agent conversation, it's crucial to have clear termination conditions to prevent infinite loops. Here are three common ways to stop a chat.\n",
    "\n",
    "### 1. Set a Maximum Number of Turns\n",
    "\n",
    "You can limit the total number of conversational turns using the `max_turns` parameter in the `initiate_chat()` method."
   ]
  },
  {
   "cell_type": "code",
   "execution_count": null,
   "id": "94a7f772",
   "metadata": {},
   "outputs": [],
   "source": [
    "# The chat will end automatically after 3 turns.\n",
    "result = planner_agent.initiate_chat(\n",
    "    engineer_agent,\n",
    "    message=\"Write a Python script to download a file from a URL.\",\n",
    "    max_turns=3\n",
    ")"
   ]
  },
  {
   "cell_type": "markdown",
   "id": "d52eeeb1",
   "metadata": {},
   "source": [
    "### 2. Limit Consecutive Auto-Replies\n",
    "\n",
    "You can prevent an agent from replying to itself indefinitely by setting `max_consecutive_auto_reply`."
   ]
  },
  {
   "cell_type": "code",
   "execution_count": null,
   "id": "843ad71f",
   "metadata": {},
   "outputs": [],
   "source": [
    "# This agent will stop if it finds itself in a loop of replying to its own messages.\n",
    "joe = ConversableAgent(\n",
    "    \"joe\",\n",
    "    llm_config=llm_config,\n",
    "    human_input_mode=\"NEVER\",\n",
    "    max_consecutive_auto_reply=2  # Limit consecutive auto-replies\n",
    ")"
   ]
  },
  {
   "cell_type": "markdown",
   "id": "e32ae854",
   "metadata": {},
   "source": [
    "### 3. Define a Termination Message\n",
    "\n",
    "You can specify a function (`is_termination_msg`) that checks the content of a message to decide if the conversation should end."
   ]
  },
  {
   "cell_type": "code",
   "execution_count": null,
   "id": "ebdefa64",
   "metadata": {},
   "outputs": [],
   "source": [
    "# The chat will end if the agent's message includes the phrase \"task complete\".\n",
    "terminator = ConversableAgent(\n",
    "    \"terminator\",\n",
    "    llm_config=llm_config,\n",
    "    human_input_mode=\"NEVER\",\n",
    "    is_termination_msg=lambda msg: \"task complete\" in msg.get(\"content\", \"\").lower(),\n",
    ")\n",
    "\n",
    "result = joe.initiate_chat(\n",
    "    terminator,\n",
    "    message=\"Tell me a joke and then say 'task complete'.\"\n",
    ")"
   ]
  }
 ],
 "metadata": {
  "jupytext": {
   "cell_metadata_filter": "-all",
   "main_language": "python",
   "notebook_metadata_filter": "-all"
  }
 },
 "nbformat": 4,
 "nbformat_minor": 5
}
