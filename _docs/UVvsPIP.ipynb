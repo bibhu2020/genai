{
 "cells": [
  {
   "cell_type": "markdown",
   "id": "ad474717",
   "metadata": {},
   "source": [
    "\n",
    "# ⚡ `uv`: A Faster Python Package Manager\n",
    "\n",
    "`uv` is a modern, high-performance Python package manager and installer, designed to be a significantly faster alternative to `pip` and `pip-tools`. Developed by Astral, it aims to provide a unified and efficient experience for Python dependency management.\n",
    "\n",
    "---\n",
    "\n",
    "## ✨ What is `uv`?\n",
    "\n",
    "`uv` is a Python package manager that boasts impressive speed improvements, often being **10x to 100x faster** than traditional `pip` operations. It combines the functionalities of `pip`, `pip-tools`, and `venv` into a single, cohesive tool.\n",
    "\n",
    "---\n",
    "\n",
    "## 🚀 Installation\n",
    "\n",
    "You can install `uv` using a simple shell script:"
   ]
  },
  {
   "cell_type": "code",
   "execution_count": null,
   "id": "91fce64c",
   "metadata": {},
   "outputs": [],
   "source": [
    "curl -LsSf https://astral.sh/uv/install.sh | sh"
   ]
  },
  {
   "cell_type": "markdown",
   "id": "c8c442ae",
   "metadata": {},
   "source": [
    "Verify your installation:"
   ]
  },
  {
   "cell_type": "code",
   "execution_count": null,
   "id": "53fd5ef6",
   "metadata": {},
   "outputs": [],
   "source": [
    "uv --version"
   ]
  },
  {
   "cell_type": "markdown",
   "id": "9116e100",
   "metadata": {},
   "source": [
    "---\n",
    "## 🐍 Python Environment Management\n",
    "\n",
    "`uv` simplifies managing Python versions and virtual environments.\n",
    "\n",
    "-   **List installed Python versions:**\n",
    "    ```bash\n",
    "        uv python list\n",
    "    ```\n",
    "\n",
    "-   **Install a specific Python version:**\n",
    "    ```bash\n",
    "        uv python install 3.14\n",
    "    ```\n",
    "\n",
    "-   **Uninstall a Python version:**\n",
    "    ```bash\n",
    "        uv python uninstall 3.14\n",
    "    ```\n",
    "\n",
    "---\n",
    "\n",
    "## ▶️ Running Applications\n",
    "\n",
    "`uv` can directly run Python scripts, automatically handling dependencies.\n",
    "\n",
    "-   **Run a script:**\n",
    "    ```bash\n",
    "        uv run main.py\n",
    "    ```\n",
    "\n",
    "-   **Run with a specific Python version:**\n",
    "    ```bash\n",
    "        uv --python 3.14 run main.py\n",
    "    ```\n",
    "\n",
    "-   **Run and install packages on the fly:**\n",
    "    ```bash\n",
    "        uv run --with rich --python 3.14 run main.py\n",
    "    ```\n",
    "\n",
    "### 📄 `uv` with Script Metadata\n",
    "\n",
    "`uv` allows you to embed dependency information directly into your Python scripts using a special comment block. This enables `uv` to automatically manage and install required packages when the script is run."
   ]
  },
  {
   "cell_type": "code",
   "execution_count": null,
   "id": "f3c525c1",
   "metadata": {},
   "outputs": [],
   "source": [
    "%%python\n",
    "# /// script\n",
    "# requires-python = \">=3.9\"\n",
    "# dependencies = [\"rich\", \"requests\"]\n",
    "# ///\n",
    "\n",
    "import sys\n",
    "from rich import print\n",
    "import requests\n",
    "\n",
    "print(sys.version)\n",
    "print(\"Requests imported successfully!\")"
   ]
  },
  {
   "cell_type": "markdown",
   "id": "1e6ee134",
   "metadata": {},
   "source": [
    "To run this script and automatically install `rich` and `requests`:"
   ]
  },
  {
   "cell_type": "code",
   "execution_count": null,
   "id": "324fb8c0",
   "metadata": {},
   "outputs": [],
   "source": [
    "uv run your_script_with_metadata.py"
   ]
  },
  {
   "cell_type": "markdown",
   "id": "69e0377e",
   "metadata": {},
   "source": [
    "---\n",
    "\n",
    "## 📦 Project Management\n",
    "\n",
    "`uv` streamlines common project management tasks, including virtual environment creation and dependency handling.\n",
    "\n",
    "-   **Initialize a new Python project:**\n",
    "    -   In the current directory:\n",
    "        ```bash\n",
    "            uv init\n",
    "        ```\n",
    "    -   Create a new project folder:\n",
    "        ```bash\n",
    "            uv init <projectname>\n",
    "        ```\n",
    "\n",
    "-   **Add a package to your project (and create a virtual environment if needed):**\n",
    "    ```bash\n",
    "        uv add requests\n",
    "    ```\n",
    "\n",
    "-   **Remove a package:**\n",
    "    ```bash\n",
    "        uv remove requests\n",
    "    ```\n",
    "\n",
    "-   **Install all dependencies (similar to `npm install` or `pip install -r requirements.txt`):**\n",
    "    ```bash\n",
    "        uv sync\n",
    "    ```\n",
    "\n",
    "-   **Generate a lock file (for reproducible builds):**\n",
    "    ```bash\n",
    "        uv lock\n",
    "    ```"
   ]
  }
 ],
 "metadata": {
  "jupytext": {
   "cell_metadata_filter": "-all",
   "main_language": "bash",
   "notebook_metadata_filter": "-all"
  }
 },
 "nbformat": 4,
 "nbformat_minor": 5
}
