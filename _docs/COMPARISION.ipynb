{
 "cells": [
  {
   "cell_type": "markdown",
   "id": "69e74e08",
   "metadata": {},
   "source": [
    "# 🤖 Comparing LLM Interaction Frameworks: A Vacation Planning Showdown\n",
    "\n",
    "When building AI applications, choosing the right framework for managing Large Language Model (LLM) interactions is crucial. This guide compares four popular approaches: **Direct LLM Calls**, **LangChain**, **LangGraph**, and **AutoGen**.\n",
    "\n",
    "We'll use a simple vacation planning use case to illustrate the strengths and weaknesses of each.\n",
    "\n",
    "> **Use Case:** An AI assistant needs to plan a vacation by:\n",
    "> 1.  Finding a warm beach destination within a budget.\n",
    "> 2.  Booking a flight to that destination.\n",
    "> 3.  Trying another destination if the flight is unavailable.\n",
    "\n",
    "---\n",
    "\n",
    "### 1. 📞 Direct LLM Calls\n",
    "\n",
    "This is the most fundamental approach. You write standard code to call the LLM API for each step and manually handle the logic and data flow between calls.\n",
    "\n",
    "-   **How it works:** You are in complete control. You call the LLM, get a response, process it, and then decide what to do next. Error handling and retries are managed with standard `if/else` statements and `while` loops."
   ]
  },
  {
   "cell_type": "code",
   "execution_count": null,
   "id": "f37d46a3",
   "metadata": {},
   "outputs": [],
   "source": [
    "# Pseudocode for Direct LLM Calls\n",
    "import openai\n",
    "\n",
    "MAX_RETRIES = 3\n",
    "for i in range(MAX_RETRIES):\n",
    "    # Step 1: Find a destination\n",
    "    destination_response = openai.Completion.create(prompt=\"Find a warm beach destination under $1000.\")\n",
    "    destination = destination_response.choices[0].text.strip()\n",
    "\n",
    "    # Step 2: Book a flight\n",
    "    flight_response = openai.Completion.create(prompt=f\"Book a flight to {destination}.\")\n",
    "    flight_status = flight_response.choices[0].text.strip()\n",
    "\n",
    "    if \"booked\" in flight_status.lower():\n",
    "        print(f\"Success! Flight booked to {destination}.\")\n",
    "        break\n",
    "    else:\n",
    "        print(f\"Flight to {destination} not available. Retrying...\")"
   ]
  },
  {
   "cell_type": "markdown",
   "id": "a06b4d89",
   "metadata": {},
   "source": [
    "-   **✅ Pros:** Simple, maximum control, no external dependencies.\n",
    "-   **❌ Cons:** Verbose, manual error handling, becomes complex and hard to manage for multi-step tasks.\n",
    "\n",
    "---\n",
    "\n",
    "### 2. 🔗 LangChain\n",
    "\n",
    "LangChain introduces the concept of \"chains,\" which are sequences of LLM calls or other operations. It simplifies passing the output of one step as the input to the next.\n",
    "\n",
    "-   **How it works:** You define a sequence of chains. LangChain handles the data flow between them, but you still need to manage the overall control flow (like loops and retries) yourself."
   ]
  },
  {
   "cell_type": "code",
   "execution_count": null,
   "id": "e47acf65",
   "metadata": {},
   "outputs": [],
   "source": [
    "# Pseudocode for LangChain\n",
    "from langchain.chains import SimpleSequentialChain\n",
    "from langchain.prompts import PromptTemplate\n",
    "\n",
    "# Define chains for each step\n",
    "find_dest_chain = ...\n",
    "book_flight_chain = ...\n",
    "\n",
    "# Combine them into a sequential chain\n",
    "full_chain = SimpleSequentialChain(chains=[find_dest_chain, book_flight_chain])\n",
    "\n",
    "# Still need a manual loop for retries\n",
    "for i in range(MAX_RETRIES):\n",
    "    result = full_chain.run(input=\"Find and book a vacation.\")\n",
    "    if \"booked\" in result.lower():\n",
    "        print(\"Success!\")\n",
    "        break\n",
    "    else:\n",
    "        print(\"Retrying...\")"
   ]
  },
  {
   "cell_type": "markdown",
   "id": "f1305648",
   "metadata": {},
   "source": [
    "-   **✅ Pros:** Cleaner code for sequential tasks, automates data passing.\n",
    "-   **❌ Cons:** Still requires manual control for non-linear flows, error handling, and loops. Can be complex to debug.\n",
    "\n",
    "---\n",
    "\n",
    "### 3. 🌐 LangGraph\n",
    "\n",
    "LangGraph, built by the LangChain team, models workflows as a **graph**. Each step is a \"node,\" and you define \"edges\" to control the flow, including cycles (loops).\n",
    "\n",
    "-   **How it works:** You define nodes (functions or LLM calls) and a graph structure that dictates the sequence of operations. The graph can have conditional edges, allowing it to decide which node to go to next, making loops and retries an explicit part of the graph itself."
   ]
  },
  {
   "cell_type": "code",
   "execution_count": null,
   "id": "39a456d3",
   "metadata": {},
   "outputs": [],
   "source": [
    "# Pseudocode for LangGraph\n",
    "from langgraph.graph import StateGraph\n",
    "\n",
    "# Define functions for each node (e.g., find_destination, book_flight)\n",
    "def find_destination_node(state):\n",
    "    # ... logic to find destination\n",
    "    return { \"destination\": dest }\n",
    "\n",
    "def book_flight_node(state):\n",
    "    # ... logic to book flight\n",
    "    return { \"flight_status\": status }\n",
    "\n",
    "# Define a function for the conditional edge\n",
    "def should_retry(state):\n",
    "    if state[\"flight_status\"] == \"available\" or state[\"retries\"] >= MAX_RETRIES:\n",
    "        return \"end\"\n",
    "    else:\n",
    "        return \"retry\"\n",
    "\n",
    "# Build the graph\n",
    "workflow = StateGraph(AppState)\n",
    "workflow.add_node(\"finder\", find_destination_node)\n",
    "workflow.add_node(\"booker\", book_flight_node)\n",
    "workflow.set_entry_point(\"finder\")\n",
    "workflow.add_edge(\"finder\", \"booker\")\n",
    "workflow.add_conditional_edges(\n",
    "    \"booker\",\n",
    "    should_retry,\n",
    "    { \"retry\": \"finder\", \"end\": \"__end__\" }\n",
    ")\n",
    "\n",
    "app = workflow.compile()\n",
    "app.invoke({ \"retries\": 0 })"
   ]
  },
  {
   "cell_type": "markdown",
   "id": "2bc1ed6a",
   "metadata": {},
   "source": [
    "-   **✅ Pros:** Excellent for complex, non-linear workflows. Explicitly handles cycles and state. More robust and maintainable for agentic systems.\n",
    "-   **❌ Cons:** Steeper learning curve. Can be overkill for simple sequential tasks.\n",
    "\n",
    "---\n",
    "\n",
    "### 4. 🤖 AutoGen\n",
    "\n",
    "AutoGen, from Microsoft, takes a different approach by using **conversable agents**. You define a set of agents with different capabilities (e.g., a `PlannerAgent`, a `BookingAgent`) and a `UserProxyAgent` to manage the conversation.\n",
    "\n",
    "-   **How it works:** The agents talk to each other to solve the problem. You don't define a rigid workflow. Instead, the agents decide the best sequence of actions based on the conversation. The `UserProxyAgent` can be configured to automatically run code, or ask for human input."
   ]
  },
  {
   "cell_type": "code",
   "execution_count": null,
   "id": "9e9b96c0",
   "metadata": {},
   "outputs": [],
   "source": [
    "# Pseudocode for AutoGen\n",
    "import autogen\n",
    "\n",
    "# Define agents with specific roles and tools\n",
    "planner = autogen.AssistantAgent(name=\"Planner\", ...)\n",
    "booker = autogen.AssistantAgent(name=\"Booker\", ...)\n",
    "user_proxy = autogen.UserProxyAgent(name=\"UserProxy\", code_execution_config={\"work_dir\": \"coding\"})\n",
    "\n",
    "# Start the chat\n",
    "user_proxy.initiate_chat(\n",
    "    planner,\n",
    "    message=\"Find a warm beach destination and book a flight. If the flight is not available, find another destination and try again.\"\n",
    ")"
   ]
  },
  {
   "cell_type": "markdown",
   "id": "e554a826",
   "metadata": {},
   "source": [
    "-   **✅ Pros:** Highly automated and flexible. Excellent for complex, dynamic tasks where the exact steps are not known in advance. Encourages emergent behavior.\n",
    "-   **❌ Cons:** Less direct control over the workflow, which can make it less predictable. Debugging can be challenging.\n",
    "\n",
    "---\n",
    "\n",
    "## 📊 At-a-Glance Comparison\n",
    "\n",
    "| Feature            | 📞 Direct Calls | 🔗 LangChain      | 🌐 LangGraph      | 🤖 AutoGen         |\n",
    "| ------------------ | --------------- | ----------------- | ----------------- | ------------------ |\n",
    "| **Control**        | Maximum         | Medium            | High (declarative) | Low (emergent)     |\n",
    "| **Complexity**     | Low             | Medium            | High              | High               |\n",
    "| **Workflow**       | Manual          | Sequential        | Graph-based (cyclic) | Conversational     |\n",
    "| **Error Handling** | Manual          | Manual            | Built-in (explicit) | Automated (implicit) |\n",
    "| **Best For**       | Simple scripts  | Linear prototypes | Complex agents    | Autonomous systems |"
   ]
  }
 ],
 "metadata": {
  "jupytext": {
   "cell_metadata_filter": "-all",
   "main_language": "python",
   "notebook_metadata_filter": "-all"
  }
 },
 "nbformat": 4,
 "nbformat_minor": 5
}
