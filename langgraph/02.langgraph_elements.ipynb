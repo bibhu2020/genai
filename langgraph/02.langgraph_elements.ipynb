{
 "cells": [
  {
   "cell_type": "markdown",
   "id": "a2b257ec",
   "metadata": {},
   "source": [
    "### Elements\n",
    "Here we will talk about various elements in LangGraph"
   ]
  },
  {
   "cell_type": "code",
   "execution_count": null,
   "id": "2d47aff6",
   "metadata": {},
   "outputs": [],
   "source": [
    "# STATE (State)\n",
    "## State is a shared data structure that holds the current information or context of the entire application.\n",
    "## In simple term, It is the application memory. It keeps track of the variables and data that\n",
    "## nodes can access and modify as they execute.\n",
    "\n",
    "#**Analogy:** (A Whiteboard in a Meeting Room)\n",
    "##- Participants can be imagined as NODES who read/write information on the WHITEBOARD.\n",
    "##- WHITEBOARD is considered as State."
   ]
  },
  {
   "cell_type": "code",
   "execution_count": null,
   "id": "0097d103",
   "metadata": {},
   "outputs": [],
   "source": [
    "# NODE (Node)\n",
    "## Nodes are individual functions or operation that perform specific tasks within the graph.\n",
    "## Each node received input (often from the current State), process it and produces an output or an udated state."
   ]
  },
  {
   "cell_type": "code",
   "execution_count": 4,
   "id": "71ac6209",
   "metadata": {},
   "outputs": [],
   "source": [
    "# GRAPH (Graph)\n",
    "## A Graph in LangGraph is the overarching structure \n",
    "## that maps out how different tasks (nodes) are connected and executed.\n",
    "## It visually represents the workflow, showing the sequence and conditional paths between various operations."
   ]
  },
  {
   "cell_type": "code",
   "execution_count": 5,
   "id": "e419af9b",
   "metadata": {},
   "outputs": [],
   "source": [
    "# EDGES (Edges)\n",
    "## are the connections between the nodes that determine the flow of execution.\n",
    "## It tells which node should be executed next after the current one is completed."
   ]
  },
  {
   "cell_type": "code",
   "execution_count": 6,
   "id": "77dcb313",
   "metadata": {},
   "outputs": [],
   "source": [
    "# Conditional Edges\n",
    "## are specialized connections that decide the next one to executed based on \n",
    "## specific condition or logic applied to the current state. "
   ]
  },
  {
   "cell_type": "code",
   "execution_count": null,
   "id": "82b62c34",
   "metadata": {},
   "outputs": [],
   "source": [
    "# START Node\n",
    "# It is the starting entry point in the langgraph, marking where the workflow begins.\n",
    "# It does not perform any action"
   ]
  },
  {
   "cell_type": "code",
   "execution_count": null,
   "id": "388db4e0",
   "metadata": {},
   "outputs": [],
   "source": [
    "# END Node\n",
    "# It is the ending point in the graph. Upon reaching this node, \n",
    "# the graph's excution stops, indicating that all intended processes have been completed. "
   ]
  },
  {
   "cell_type": "code",
   "execution_count": null,
   "id": "1fe9c659",
   "metadata": {},
   "outputs": [],
   "source": [
    "# Tools\n",
    "## Tools are specialized functions or utilities that the nodes can utilize \n",
    "## to peform specific tasks such as data fetching from an API.\n",
    "## They enhance the capabilities of nodes by providing additional functionalities. \n",
    "## Nodes are part of the graph structure, while tools are functionaliies used within the nodes.\n"
   ]
  },
  {
   "cell_type": "code",
   "execution_count": null,
   "id": "f5f4d9b2",
   "metadata": {},
   "outputs": [],
   "source": [
    "# ToolNode\n",
    "## ToolNode is a specialized node whose main job is to run a tool.\n",
    "## It connects the tool's output back into the State so that the other nodes can use it."
   ]
  },
  {
   "cell_type": "code",
   "execution_count": null,
   "id": "8eb0ab0f",
   "metadata": {},
   "outputs": [],
   "source": [
    "# StateGraph\n",
    "## StateGraph is a class in LangGraph used to build and compile the graph structure.\n",
    "## It manages the nodes, edges, and the overall state ensuring that the wokflow operates\n",
    "## in a unified way and that the data flows correctly between the components."
   ]
  },
  {
   "cell_type": "code",
   "execution_count": null,
   "id": "57c29bcb",
   "metadata": {},
   "outputs": [],
   "source": [
    "# Runnable\n",
    "## A Runnable in LangGraph is a standarized executable component that \n",
    "## performs specific tasks within an AI workflow.\n",
    "## It is the fundamental building block allowing us to create modular and reusable components.\n",
    "## In Langgraph, It can be a node, a tool, or even a graph itself.\n",
    "## In LangChain, a Parser, LLM, PromptTemplate, and Retriever are all Runnables. \n",
    "## It means you can perform .invoke() on them. Hence, they can be put into a graph or chain.\n"
   ]
  },
  {
   "cell_type": "code",
   "execution_count": null,
   "id": "c78cf64f",
   "metadata": {},
   "outputs": [],
   "source": [
    "# Messages\n",
    "## Messages are the communication units that pass information between nodes and tools.\n",
    "## There are different types of messages.\n",
    "\n",
    "### Human Message (input): It is the input from the user, typically containing a question or request.\n",
    "\n",
    "### System Message (input): It is a message that provides context or instructions to the AI, guiding its behavior or response.\n",
    "\n",
    "### AI Message (output): It is the response generated by the AI based on the input it received, often containing the answer or information requested.\n",
    "\n",
    "### Function Message (output): It is a message that contains the output of a function or tool, providing the results of a computation or action taken by the AI.\n",
    "\n",
    "### Tool Message (output): It is a message that contains the output of a tool, providing the results of a specific action or task performed by the AI using an external tool or utility."
   ]
  }
 ],
 "metadata": {
  "kernelspec": {
   "display_name": ".langchain",
   "language": "python",
   "name": "python3"
  },
  "language_info": {
   "codemirror_mode": {
    "name": "ipython",
    "version": 3
   },
   "file_extension": ".py",
   "mimetype": "text/x-python",
   "name": "python",
   "nbconvert_exporter": "python",
   "pygments_lexer": "ipython3",
   "version": "3.11.11"
  }
 },
 "nbformat": 4,
 "nbformat_minor": 5
}
