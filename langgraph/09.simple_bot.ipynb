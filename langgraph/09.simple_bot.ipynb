{
 "cells": [
  {
   "cell_type": "markdown",
   "id": "ce708ecc",
   "metadata": {},
   "source": [
    "### A Simple Bot\n",
    "\n",
    "- Define state structure with a list of HumanMessage objects\n",
    "\n",
    "- Integrate LLM with Graph\n",
    "\n",
    "- Sending and handling different type of messages\n",
    "\n",
    "- Building and compiling the graph for the Agent/Bot"
   ]
  }
 ],
 "metadata": {
  "kernelspec": {
   "display_name": ".langchain",
   "language": "python",
   "name": "python3"
  },
  "language_info": {
   "name": "python",
   "version": "3.11.4"
  }
 },
 "nbformat": 4,
 "nbformat_minor": 5
}
