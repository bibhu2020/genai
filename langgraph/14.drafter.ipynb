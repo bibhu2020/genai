{
 "cells": [
  {
   "cell_type": "markdown",
   "id": "aaf39b9a",
   "metadata": {},
   "source": [
    "### Drafter (a mini project)\n",
    "\n",
    "#### Problem Statement\n",
    "The company XYZ is not working efficiently!! It is spending too much time drafting documents and this needs to be fixed.\n",
    "\n",
    "#### Proposed Solution\n",
    "Create an AI Agentic System that can speed up drafting documents, emails, etc. The AI agentic system should have Human-AI collaboration meaning the Human should be able to provide continious feedback and the AI agent should stop when the Human is happy with the draft. The system should be fast and be able to save the drafts."
   ]
  }
 ],
 "metadata": {
  "language_info": {
   "name": "python"
  }
 },
 "nbformat": 4,
 "nbformat_minor": 5
}
