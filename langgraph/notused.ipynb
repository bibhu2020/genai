{
 "cells": [
  {
   "cell_type": "code",
   "execution_count": null,
   "id": "f22c6fa4",
   "metadata": {},
   "outputs": [],
   "source": [
    "! pip install langgraph langsmith"
   ]
  },
  {
   "cell_type": "code",
   "execution_count": null,
   "id": "3d4d27df",
   "metadata": {},
   "outputs": [
    {
     "data": {
      "text/plain": [
       "ChatGroq(client=<groq.resources.chat.completions.Completions object at 0x77e0038b82d0>, async_client=<groq.resources.chat.completions.AsyncCompletions object at 0x77e0038d1890>, model_name='Gemma2-9b-It', model_kwargs={}, groq_api_key=SecretStr('**********'), max_tokens=512)"
      ]
     },
     "execution_count": 7,
     "metadata": {},
     "output_type": "execute_result"
    }
   ],
   "source": [
    "from utility.llm_factory import LLMFactory\n",
    "llm = LLMFactory.get_llm('groq')\n",
    "\n",
    "llm"
   ]
  },
  {
   "cell_type": "markdown",
   "id": "534be095",
   "metadata": {},
   "source": [
    "### Start Building Chatbot using LangGraph"
   ]
  },
  {
   "cell_type": "code",
   "execution_count": null,
   "id": "95e3052b",
   "metadata": {},
   "outputs": [],
   "source": [
    "from typing import Annotated\n",
    "from typing_extensions import TypedDict\n",
    "from langgraph.graph import StateGraph, START, END\n",
    "from langgraph.graph.message import add_messages"
   ]
  },
  {
   "cell_type": "code",
   "execution_count": null,
   "id": "b7986d46",
   "metadata": {},
   "outputs": [
    {
     "data": {
      "text/plain": [
       "<langgraph.graph.state.StateGraph at 0x77e003284850>"
      ]
     },
     "execution_count": 17,
     "metadata": {},
     "output_type": "execute_result"
    }
   ],
   "source": [
    "class State(TypedDict):\n",
    "    # Messages have the type \"list\". The \"add_messages\" function\n",
    "    # in the annotation defined how this state key is updated.\n",
    "    # in this case, it appends messages to the list, rather than overwriting it.\n",
    "    messages: Annotated[list, add_messages]\n"
   ]
  },
  {
   "cell_type": "code",
   "execution_count": 33,
   "id": "7ef350ac",
   "metadata": {},
   "outputs": [],
   "source": [
    "graph_builder = StateGraph(State)\n",
    "\n",
    "def chatbot(state: State):\n",
    "    return {\"messages\": llm.invoke(state['messages'])}\n",
    "\n",
    "graph_builder.add_node(\"chatbot\", chatbot)\n",
    "graph_builder.add_edge(START, \"chatbot\")\n",
    "graph_builder.add_edge(\"chatbot\", END)\n",
    "\n",
    "graph = graph_builder.compile()"
   ]
  },
  {
   "cell_type": "code",
   "execution_count": 35,
   "id": "381b67f9",
   "metadata": {},
   "outputs": [
    {
     "name": "stdout",
     "output_type": "stream",
     "text": [
      "dict_values([{'messages': AIMessage(content='Please provide me with a question or topic so I can assist you!  \\n\\nFor example, you could ask me:\\n\\n* **A question:** \"What is the capital of France?\"\\n* **A creative writing prompt:** \"Write a short story about a robot who learns to feel emotions.\"\\n* **A request for information:** \"Tell me about the history of the internet.\"\\n* **A task:** \"Summarize this article for me.\"\\n\\n\\nI\\'m here to help! 😊\\n', additional_kwargs={}, response_metadata={'token_usage': {'completion_tokens': 104, 'prompt_tokens': 11, 'total_tokens': 115, 'completion_time': 0.189090909, 'prompt_time': 0.001941687, 'queue_time': 0.073960812, 'total_time': 0.191032596}, 'model_name': 'Gemma2-9b-It', 'system_fingerprint': 'fp_10c08bf97d', 'finish_reason': 'stop', 'logprobs': None}, id='run--5b7f5a28-106f-4b78-997c-942e94d8afef-0', usage_metadata={'input_tokens': 11, 'output_tokens': 104, 'total_tokens': 115})}])\n",
      "content='Please provide me with a question or topic so I can assist you!  \\n\\nFor example, you could ask me:\\n\\n* **A question:** \"What is the capital of France?\"\\n* **A creative writing prompt:** \"Write a short story about a robot who learns to feel emotions.\"\\n* **A request for information:** \"Tell me about the history of the internet.\"\\n* **A task:** \"Summarize this article for me.\"\\n\\n\\nI\\'m here to help! 😊\\n' additional_kwargs={} response_metadata={'token_usage': {'completion_tokens': 104, 'prompt_tokens': 11, 'total_tokens': 115, 'completion_time': 0.189090909, 'prompt_time': 0.001941687, 'queue_time': 0.073960812, 'total_time': 0.191032596}, 'model_name': 'Gemma2-9b-It', 'system_fingerprint': 'fp_10c08bf97d', 'finish_reason': 'stop', 'logprobs': None} id='run--5b7f5a28-106f-4b78-997c-942e94d8afef-0' usage_metadata={'input_tokens': 11, 'output_tokens': 104, 'total_tokens': 115}\n",
      "Assistant: Please provide me with a question or topic so I can assist you!  \n",
      "\n",
      "For example, you could ask me:\n",
      "\n",
      "* **A question:** \"What is the capital of France?\"\n",
      "* **A creative writing prompt:** \"Write a short story about a robot who learns to feel emotions.\"\n",
      "* **A request for information:** \"Tell me about the history of the internet.\"\n",
      "* **A task:** \"Summarize this article for me.\"\n",
      "\n",
      "\n",
      "I'm here to help! 😊\n",
      "\n",
      "dict_values([{'messages': AIMessage(content='Please provide me with a prompt or question so I can help you! I can do many things, such as:\\n\\n* **Answer your questions:** I have access to a vast store of knowledge and can answer a wide range of questions.\\n* **Generate creative content:** I can write stories, poems, articles, and even code.\\n* **Summarize text:** Give me a long piece of writing, and I can provide a concise summary.\\n* **Translate languages:** I can translate text between many different languages.\\n* **Chat and have conversations:** I can engage in natural-sounding conversations on a variety of topics.\\n\\n\\nWhat can I do for you?\\n\\n', additional_kwargs={}, response_metadata={'token_usage': {'completion_tokens': 140, 'prompt_tokens': 11, 'total_tokens': 151, 'completion_time': 0.254545455, 'prompt_time': 0.001916596, 'queue_time': 0.073750631, 'total_time': 0.256462051}, 'model_name': 'Gemma2-9b-It', 'system_fingerprint': 'fp_10c08bf97d', 'finish_reason': 'stop', 'logprobs': None}, id='run--700c12b8-8f0e-4225-8694-e37b5994cef1-0', usage_metadata={'input_tokens': 11, 'output_tokens': 140, 'total_tokens': 151})}])\n",
      "content='Please provide me with a prompt or question so I can help you! I can do many things, such as:\\n\\n* **Answer your questions:** I have access to a vast store of knowledge and can answer a wide range of questions.\\n* **Generate creative content:** I can write stories, poems, articles, and even code.\\n* **Summarize text:** Give me a long piece of writing, and I can provide a concise summary.\\n* **Translate languages:** I can translate text between many different languages.\\n* **Chat and have conversations:** I can engage in natural-sounding conversations on a variety of topics.\\n\\n\\nWhat can I do for you?\\n\\n' additional_kwargs={} response_metadata={'token_usage': {'completion_tokens': 140, 'prompt_tokens': 11, 'total_tokens': 151, 'completion_time': 0.254545455, 'prompt_time': 0.001916596, 'queue_time': 0.073750631, 'total_time': 0.256462051}, 'model_name': 'Gemma2-9b-It', 'system_fingerprint': 'fp_10c08bf97d', 'finish_reason': 'stop', 'logprobs': None} id='run--700c12b8-8f0e-4225-8694-e37b5994cef1-0' usage_metadata={'input_tokens': 11, 'output_tokens': 140, 'total_tokens': 151}\n",
      "Assistant: Please provide me with a prompt or question so I can help you! I can do many things, such as:\n",
      "\n",
      "* **Answer your questions:** I have access to a vast store of knowledge and can answer a wide range of questions.\n",
      "* **Generate creative content:** I can write stories, poems, articles, and even code.\n",
      "* **Summarize text:** Give me a long piece of writing, and I can provide a concise summary.\n",
      "* **Translate languages:** I can translate text between many different languages.\n",
      "* **Chat and have conversations:** I can engage in natural-sounding conversations on a variety of topics.\n",
      "\n",
      "\n",
      "What can I do for you?\n",
      "\n",
      "\n",
      "dict_values([{'messages': AIMessage(content=\"Please provide me with a prompt or question so I can assist you.  \\n\\nFor example, you could ask me to:\\n\\n* **Generate creative content:** Write a poem, story, or song.\\n* **Answer questions:** Provide information on a topic or explain a concept.\\n* **Summarize text:** Condense a long article or document.\\n* **Translate languages:** Convert text from one language to another.\\n* **Brainstorm ideas:** Help you come up with new concepts or solutions.\\n\\nI'm ready to help! \\n\\n\", additional_kwargs={}, response_metadata={'token_usage': {'completion_tokens': 116, 'prompt_tokens': 11, 'total_tokens': 127, 'completion_time': 0.210909091, 'prompt_time': 0.001945656, 'queue_time': 0.067245652, 'total_time': 0.212854747}, 'model_name': 'Gemma2-9b-It', 'system_fingerprint': 'fp_10c08bf97d', 'finish_reason': 'stop', 'logprobs': None}, id='run--07824178-7920-4e36-adaa-051846114d56-0', usage_metadata={'input_tokens': 11, 'output_tokens': 116, 'total_tokens': 127})}])\n",
      "content=\"Please provide me with a prompt or question so I can assist you.  \\n\\nFor example, you could ask me to:\\n\\n* **Generate creative content:** Write a poem, story, or song.\\n* **Answer questions:** Provide information on a topic or explain a concept.\\n* **Summarize text:** Condense a long article or document.\\n* **Translate languages:** Convert text from one language to another.\\n* **Brainstorm ideas:** Help you come up with new concepts or solutions.\\n\\nI'm ready to help! \\n\\n\" additional_kwargs={} response_metadata={'token_usage': {'completion_tokens': 116, 'prompt_tokens': 11, 'total_tokens': 127, 'completion_time': 0.210909091, 'prompt_time': 0.001945656, 'queue_time': 0.067245652, 'total_time': 0.212854747}, 'model_name': 'Gemma2-9b-It', 'system_fingerprint': 'fp_10c08bf97d', 'finish_reason': 'stop', 'logprobs': None} id='run--07824178-7920-4e36-adaa-051846114d56-0' usage_metadata={'input_tokens': 11, 'output_tokens': 116, 'total_tokens': 127}\n",
      "Assistant: Please provide me with a prompt or question so I can assist you.  \n",
      "\n",
      "For example, you could ask me to:\n",
      "\n",
      "* **Generate creative content:** Write a poem, story, or song.\n",
      "* **Answer questions:** Provide information on a topic or explain a concept.\n",
      "* **Summarize text:** Condense a long article or document.\n",
      "* **Translate languages:** Convert text from one language to another.\n",
      "* **Brainstorm ideas:** Help you come up with new concepts or solutions.\n",
      "\n",
      "I'm ready to help! \n",
      "\n",
      "\n",
      "dict_values([{'messages': AIMessage(content='Aurangzeb, born **Muhi-ud-din Muhammad Aurangzeb**, was the sixth Mughal emperor of India. \\n\\n**Here are some key facts about him:**\\n\\n* **Reign:** 1658-1707\\n* **Known for:** His strict adherence to Islamic law, extensive military campaigns, and the expansion of the Mughal Empire to its greatest territorial extent.\\n* **Religious Policies:** Aurangzeb\\'s reign was marked by his efforts to impose Islamic rule. He abolished the practice of \"jizya\" (a tax on non-Muslims), but reintroduced it later, leading to widespread resentment.\\n* **Military Campaigns:** He conquered large parts of India, including the Deccan region, which proved to be a costly and prolonged conflict.\\n* **Legacy:** Aurangzeb\\'s reign is considered both a high point and a turning point in Mughal history. While he expanded the empire and strengthened its military, his religious policies alienated many Hindus and contributed to the empire\\'s eventual decline.\\n\\n**Some important points to note:**\\n\\n* Aurangzeb\\'s reign is complex and multifaceted. Historians continue to debate his legacy and the impact of his policies.\\n* While he is remembered for his religious zeal, he was also a patron of the arts and sciences.\\n* His reign saw the decline of the Mughal court\\'s splendor and the rise of regional powers.\\n\\n\\nLet me know if you have any further questions about Aurangzeb.\\n\\n', additional_kwargs={}, response_metadata={'token_usage': {'completion_tokens': 303, 'prompt_tokens': 15, 'total_tokens': 318, 'completion_time': 0.550909091, 'prompt_time': 0.001912197, 'queue_time': 0.07362861, 'total_time': 0.552821288}, 'model_name': 'Gemma2-9b-It', 'system_fingerprint': 'fp_10c08bf97d', 'finish_reason': 'stop', 'logprobs': None}, id='run--690ab266-2d6b-4983-b7ee-d8af07b5d745-0', usage_metadata={'input_tokens': 15, 'output_tokens': 303, 'total_tokens': 318})}])\n",
      "content='Aurangzeb, born **Muhi-ud-din Muhammad Aurangzeb**, was the sixth Mughal emperor of India. \\n\\n**Here are some key facts about him:**\\n\\n* **Reign:** 1658-1707\\n* **Known for:** His strict adherence to Islamic law, extensive military campaigns, and the expansion of the Mughal Empire to its greatest territorial extent.\\n* **Religious Policies:** Aurangzeb\\'s reign was marked by his efforts to impose Islamic rule. He abolished the practice of \"jizya\" (a tax on non-Muslims), but reintroduced it later, leading to widespread resentment.\\n* **Military Campaigns:** He conquered large parts of India, including the Deccan region, which proved to be a costly and prolonged conflict.\\n* **Legacy:** Aurangzeb\\'s reign is considered both a high point and a turning point in Mughal history. While he expanded the empire and strengthened its military, his religious policies alienated many Hindus and contributed to the empire\\'s eventual decline.\\n\\n**Some important points to note:**\\n\\n* Aurangzeb\\'s reign is complex and multifaceted. Historians continue to debate his legacy and the impact of his policies.\\n* While he is remembered for his religious zeal, he was also a patron of the arts and sciences.\\n* His reign saw the decline of the Mughal court\\'s splendor and the rise of regional powers.\\n\\n\\nLet me know if you have any further questions about Aurangzeb.\\n\\n' additional_kwargs={} response_metadata={'token_usage': {'completion_tokens': 303, 'prompt_tokens': 15, 'total_tokens': 318, 'completion_time': 0.550909091, 'prompt_time': 0.001912197, 'queue_time': 0.07362861, 'total_time': 0.552821288}, 'model_name': 'Gemma2-9b-It', 'system_fingerprint': 'fp_10c08bf97d', 'finish_reason': 'stop', 'logprobs': None} id='run--690ab266-2d6b-4983-b7ee-d8af07b5d745-0' usage_metadata={'input_tokens': 15, 'output_tokens': 303, 'total_tokens': 318}\n",
      "Assistant: Aurangzeb, born **Muhi-ud-din Muhammad Aurangzeb**, was the sixth Mughal emperor of India. \n",
      "\n",
      "**Here are some key facts about him:**\n",
      "\n",
      "* **Reign:** 1658-1707\n",
      "* **Known for:** His strict adherence to Islamic law, extensive military campaigns, and the expansion of the Mughal Empire to its greatest territorial extent.\n",
      "* **Religious Policies:** Aurangzeb's reign was marked by his efforts to impose Islamic rule. He abolished the practice of \"jizya\" (a tax on non-Muslims), but reintroduced it later, leading to widespread resentment.\n",
      "* **Military Campaigns:** He conquered large parts of India, including the Deccan region, which proved to be a costly and prolonged conflict.\n",
      "* **Legacy:** Aurangzeb's reign is considered both a high point and a turning point in Mughal history. While he expanded the empire and strengthened its military, his religious policies alienated many Hindus and contributed to the empire's eventual decline.\n",
      "\n",
      "**Some important points to note:**\n",
      "\n",
      "* Aurangzeb's reign is complex and multifaceted. Historians continue to debate his legacy and the impact of his policies.\n",
      "* While he is remembered for his religious zeal, he was also a patron of the arts and sciences.\n",
      "* His reign saw the decline of the Mughal court's splendor and the rise of regional powers.\n",
      "\n",
      "\n",
      "Let me know if you have any further questions about Aurangzeb.\n",
      "\n",
      "\n",
      "Exiting the chatbot. Goodbye!\n"
     ]
    }
   ],
   "source": [
    "while True:\n",
    "    user_input = input(\"You: \")\n",
    "    if user_input.lower() in [\"exit\", \"quit\"]:\n",
    "        print(\"Exiting the chatbot. Goodbye!\")\n",
    "        break\n",
    "\n",
    "    for event in graph.stream({'messages': (\"user\", user_input)}):\n",
    "        print(event.values())\n",
    "        for value in event.values():\n",
    "            print(value['messages'])\n",
    "            print(\"Assistant:\", value['messages'].content)"
   ]
  }
 ],
 "metadata": {
  "kernelspec": {
   "display_name": ".langchain",
   "language": "python",
   "name": "python3"
  },
  "language_info": {
   "codemirror_mode": {
    "name": "ipython",
    "version": 3
   },
   "file_extension": ".py",
   "mimetype": "text/x-python",
   "name": "python",
   "nbconvert_exporter": "python",
   "pygments_lexer": "ipython3",
   "version": "3.11.4"
  }
 },
 "nbformat": 4,
 "nbformat_minor": 5
}
