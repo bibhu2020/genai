{
 "cells": [
  {
   "cell_type": "markdown",
   "id": "0348208a",
   "metadata": {},
   "source": [
    "### ReAct Agent\n",
    "A ReAct agent is a very common type AI agent that uses a \"reasoning and acting\" (ReAct) framework to combine chain-of-thought (CoT) reasoning with the ability to use external tools. This framework enhances the ability of large language models (LLMs) to handle complex tasks and decision-making. \n",
    "\n",
    "**How it works?**\n",
    "1. Reasoning (Thinking): The agent analyzes the input and determines the next steps.\n",
    "\n",
    "2. Action: Based on the reasoning, the agent selects and executes the tool or logic to perform a specific task.\n",
    "\n",
    "3. Observation (Feedback): Agent examines the result of the Action, and uses the information to refine its reasoning.\n",
    "\n",
    "4. Iteration: The step1-3 is repeated until a satisfactory result is achieved.\n",
    "\n",
    "![ReAct Agent Diagram](_images/react.png)\n"
   ]
  },
  {
   "cell_type": "markdown",
   "id": "e8909422",
   "metadata": {},
   "source": [
    "#### Objectives\n",
    "\n",
    "- Learn to create Tools in LangGraph\n",
    "\n",
    "- Create ReAct Graph\n",
    "\n",
    "- Work on ToolMessages\n",
    "\n",
    "- Test out robustness of our graph."
   ]
  }
 ],
 "metadata": {
  "kernelspec": {
   "display_name": ".langchain",
   "language": "python",
   "name": "python3"
  },
  "language_info": {
   "name": "python",
   "version": "3.11.11"
  }
 },
 "nbformat": 4,
 "nbformat_minor": 5
}
