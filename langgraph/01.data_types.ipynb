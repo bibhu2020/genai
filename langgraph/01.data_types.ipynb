{
 "cells": [
  {
   "cell_type": "markdown",
   "id": "4fe639e5",
   "metadata": {},
   "source": [
    "### Advanced Data Types"
   ]
  },
  {
   "cell_type": "code",
   "execution_count": null,
   "id": "a57daddf",
   "metadata": {},
   "outputs": [],
   "source": [
    "# Shortcomings with Dictionary\n",
    "## It does not check if the data is correct type or structure\n",
    "## It could lead to runtime error in big projects.\n",
    "movie = { \"name\": \"Avenger\", \"year\": 2019}"
   ]
  },
  {
   "cell_type": "code",
   "execution_count": 1,
   "id": "2c060af0",
   "metadata": {},
   "outputs": [],
   "source": [
    "# Typed Dictionary\n",
    "## It is a solution the traditional dictionary. It inherits from base-type called TypedDict\n",
    "## TypedDict is Type Safety: Explict data-type reduces runtime errors.\n",
    "## It enhances redability. Makes debugging easier and makes code understandable. \n",
    "\n",
    "from typing import TypedDict\n",
    "\n",
    "class Movie(TypedDict):\n",
    "    name: str\n",
    "    year: int\n",
    "\n",
    "movie = Movie(name=\"Avenger\", year=2019)"
   ]
  },
  {
   "cell_type": "code",
   "execution_count": 8,
   "id": "7b158be4",
   "metadata": {},
   "outputs": [
    {
     "data": {
      "text/plain": [
       "25.502499999999998"
      ]
     },
     "execution_count": 8,
     "metadata": {},
     "output_type": "execute_result"
    }
   ],
   "source": [
    "# Union\n",
    "# Union tells the input data type code either int or float in the example below\n",
    "\n",
    "from typing import Union\n",
    "\n",
    "def square(x: Union[int, float]) -> float:\n",
    "    return x * x\n",
    "\n",
    "square(5.05)"
   ]
  },
  {
   "cell_type": "code",
   "execution_count": null,
   "id": "6142dcd5",
   "metadata": {},
   "outputs": [
    {
     "name": "stdout",
     "output_type": "stream",
     "text": [
      "Hey random person!\n"
     ]
    }
   ],
   "source": [
    "# Optional\n",
    "# The input can be either a string or None. It can't be anything else.\n",
    "\n",
    "from typing import Optional\n",
    "\n",
    "def nice_message(name: Optional[str]) -> None:\n",
    "    if name is None:\n",
    "        print('Hey random person!')\n",
    "    else:\n",
    "        print(f\"Hi there, {name}!\")\n",
    "\n",
    "nice_message(None)"
   ]
  },
  {
   "cell_type": "code",
   "execution_count": 2,
   "id": "e12bcb35",
   "metadata": {},
   "outputs": [
    {
     "name": "stdout",
     "output_type": "stream",
     "text": [
      "I pretended to be a Batman in the shower sometimes\n"
     ]
    }
   ],
   "source": [
    "# Any\n",
    "from typing import Any\n",
    "\n",
    "def print_value(x: Any):\n",
    "    print(x)\n",
    "\n",
    "print_value(\"I pretended to be a Batman in the shower sometimes\")"
   ]
  },
  {
   "cell_type": "code",
   "execution_count": 4,
   "id": "b73eabd7",
   "metadata": {},
   "outputs": [
    {
     "name": "stdout",
     "output_type": "stream",
     "text": [
      "[1, 4, 9, 16]\n"
     ]
    }
   ],
   "source": [
    "# lamda function\n",
    "# one line annonymous function\n",
    "\n",
    "square = lambda x: x * x\n",
    "nums = [1, 2, 3, 4]\n",
    "squares = list(map(square, nums))\n",
    "print(squares)"
   ]
  },
  {
   "cell_type": "code",
   "execution_count": null,
   "id": "25a62484",
   "metadata": {},
   "outputs": [
    {
     "name": "stdout",
     "output_type": "stream",
     "text": [
      "('this has to be a valid email format!',)\n"
     ]
    }
   ],
   "source": [
    "# Annotated\n",
    "# provides additional context to a variable without affecting the type itself.\n",
    "# In the example, below you are adding metadata to the email string variable.\n",
    "\n",
    "from typing import Annotated\n",
    "\n",
    "email = Annotated[str, \"this has to be a valid email format!\"]\n",
    "print(email.__metadata__)"
   ]
  },
  {
   "cell_type": "code",
   "execution_count": null,
   "id": "fa5ed48a",
   "metadata": {},
   "outputs": [
    {
     "name": "stdout",
     "output_type": "stream",
     "text": [
      "10\n"
     ]
    }
   ],
   "source": [
    "# Sequence\n",
    "## To automatically handle the state updates for sequences such as adding new messages to the chat hisotry\n",
    "## it represents any ordered, iterable collection of items — like lists, tuples, or strings\n",
    "\n",
    "from typing import Sequence\n",
    "\n",
    "def show_first(item: Sequence[int]) -> None:\n",
    "    print(item[0])\n",
    "\n",
    "show_first([10, 20, 30])       # ✅ list\n",
    "show_first((10, 20, 30))       # ✅ tuple\n",
    "show_first(range(10, 20))      # ✅ range\n"
   ]
  }
 ],
 "metadata": {
  "kernelspec": {
   "display_name": "langchain",
   "language": "python",
   "name": "python3"
  },
  "language_info": {
   "codemirror_mode": {
    "name": "ipython",
    "version": 3
   },
   "file_extension": ".py",
   "mimetype": "text/x-python",
   "name": "python",
   "nbconvert_exporter": "python",
   "pygments_lexer": "ipython3",
   "version": "3.11.13"
  }
 },
 "nbformat": 4,
 "nbformat_minor": 5
}
