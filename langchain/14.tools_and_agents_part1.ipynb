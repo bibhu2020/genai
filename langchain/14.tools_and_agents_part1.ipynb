{
 "cells": [
  {
   "cell_type": "markdown",
   "id": "79f33163",
   "metadata": {},
   "source": [
    "## Tools and Agents\n",
    "So far, what we have learned is that the chains are static sequence of actions that the Gen AI application invokes to get you result. \n",
    "\n",
    "In this section, we will learn about Agents and Tools that enables dynamic chain.\n",
    "\n",
    "In LangChain, a **Tool** is a function or callable that an Agent can use to perform a specific task, such as: doing math, searching web, querying database, calling an API, running a custom script. A **Tool** is like a skill the agent can use to get something done.\n",
    "\n",
    "In LangChain, an **Agent** is a special kind of high-level abstraction that uses a language model to make decisions about which tools or actions to use, in what order, and with what inputs—instead of having a fixed chain of operations. An **Agent** is like a smart AI \"orchestrator\" that figures out what to do next, step by step, using tools (e.g., calculators, search engines, APIs) and intermediate reasoning.\n",
    "\n",
    "Let's understand this, with a simple example where we have 2 tools. A tool that performs math operation, and another that does string operation. Based on the user query, the LLM determines which tool to call, and tells the agent to execute it.\n"
   ]
  },
  {
   "cell_type": "markdown",
   "id": "7ac87420",
   "metadata": {},
   "source": [
    "### Tools Provided by LangChain\n",
    "https://python.langchain.com/docs/integrations/tools/"
   ]
  },
  {
   "cell_type": "code",
   "execution_count": 1,
   "id": "6a34f193",
   "metadata": {},
   "outputs": [],
   "source": [
    "## Step1: Define Tools\n",
    "from langchain.agents import initialize_agent, Tool\n",
    "\n",
    "\n",
    "# Tool 1: Double a number\n",
    "def double_number(input: str) -> str:\n",
    "    try:\n",
    "        number = int(input)\n",
    "        return str(number * 2)\n",
    "    except ValueError:\n",
    "        return \"Invalid number input.\"\n",
    "\n",
    "# Tool 2: Reverse a string\n",
    "def reverse_string(input: str) -> str:\n",
    "    return input[::-1]\n",
    "\n",
    "# Wrap the tools\n",
    "tools = [\n",
    "    Tool(\n",
    "        name=\"DoubleNumberTool\",\n",
    "        func=double_number,\n",
    "        description=\"Use this to double a number. Input should be a number string.\"\n",
    "    ),\n",
    "    Tool(\n",
    "        name=\"ReverseStringTool\",\n",
    "        func=reverse_string,\n",
    "        description=\"Use this to reverse a string. Input should be a string.\"\n",
    "    )\n",
    "]\n",
    "\n"
   ]
  },
  {
   "cell_type": "code",
   "execution_count": 2,
   "id": "f9ba8097",
   "metadata": {},
   "outputs": [
    {
     "name": "stderr",
     "output_type": "stream",
     "text": [
      "/tmp/ipykernel_46885/1079027127.py:6: LangChainDeprecationWarning: The class `ChatOpenAI` was deprecated in LangChain 0.0.10 and will be removed in 1.0. An updated version of the class exists in the :class:`~langchain-openai package and should be used instead. To use it run `pip install -U :class:`~langchain-openai` and import as `from :class:`~langchain_openai import ChatOpenAI``.\n",
      "  llm = ChatOpenAI(model=\"gpt-4\", temperature=0)\n",
      "/tmp/ipykernel_46885/1079027127.py:9: LangChainDeprecationWarning: LangChain agents will continue to be supported, but it is recommended for new use cases to be built with LangGraph. LangGraph offers a more flexible and full-featured framework for building agents, including support for tool-calling, persistence of state, and human-in-the-loop workflows. For details, refer to the `LangGraph documentation <https://langchain-ai.github.io/langgraph/>`_ as well as guides for `Migrating from AgentExecutor <https://python.langchain.com/docs/how_to/migrate_agent/>`_ and LangGraph's `Pre-built ReAct agent <https://langchain-ai.github.io/langgraph/how-tos/create-react-agent/>`_.\n",
      "  agent = initialize_agent(\n"
     ]
    }
   ],
   "source": [
    "## Step 2: Initialize the Agent\n",
    "\n",
    "from langchain.agents import initialize_agent, Tool\n",
    "from langchain.chat_models import ChatOpenAI\n",
    "\n",
    "llm = ChatOpenAI(model=\"gpt-4\", temperature=0)\n",
    "\n",
    "# Create the agent\n",
    "agent = initialize_agent(\n",
    "    tools=tools,\n",
    "    llm=llm,\n",
    "    agent=\"zero-shot-react-description\",  # Let the LLM reason and act\n",
    "    verbose=True\n",
    ")\n",
    "\n"
   ]
  },
  {
   "cell_type": "code",
   "execution_count": 5,
   "id": "f41186b6",
   "metadata": {},
   "outputs": [
    {
     "name": "stdout",
     "output_type": "stream",
     "text": [
      "\n",
      "--- Test 1: Doubling ---\n",
      "\n",
      "\n",
      "\u001b[1m> Entering new AgentExecutor chain...\u001b[0m\n",
      "\u001b[32;1m\u001b[1;3mI need to use the DoubleNumberTool to double the number 21.\n",
      "Action: DoubleNumberTool\n",
      "Action Input: \"21\"\u001b[0m\n",
      "Observation: \u001b[36;1m\u001b[1;3m42\u001b[0m\n",
      "Thought:\u001b[32;1m\u001b[1;3mI now know the final answer\n",
      "Final Answer: 42\u001b[0m\n",
      "\n",
      "\u001b[1m> Finished chain.\u001b[0m\n",
      "\n",
      "--- Test 2: Reversing ---\n",
      "\n",
      "\n",
      "\u001b[1m> Entering new AgentExecutor chain...\u001b[0m\n",
      "\u001b[32;1m\u001b[1;3mI need to reverse the string 'LangChain'\n",
      "Action: ReverseStringTool\n",
      "Action Input: 'LangChain'\u001b[0m\n",
      "Observation: \u001b[33;1m\u001b[1;3m'niahCgnaL'\u001b[0m\n",
      "Thought:\u001b[32;1m\u001b[1;3mI now know the final answer\n",
      "Final Answer: 'niahCgnaL'\u001b[0m\n",
      "\n",
      "\u001b[1m> Finished chain.\u001b[0m\n",
      "\n",
      "--- Test 3: Confusing input ---\n",
      "\n",
      "\n",
      "\u001b[1m> Entering new AgentExecutor chain...\u001b[0m\n",
      "\u001b[32;1m\u001b[1;3mThe string contains both numbers and letters. The DoubleNumberTool won't work because it requires a number string. The ReverseStringTool should work because it can reverse any string.\n",
      "Action: ReverseStringTool\n",
      "Action Input: '123abc'\u001b[0m\n",
      "Observation: \u001b[33;1m\u001b[1;3m'cba321'\u001b[0m\n",
      "Thought:\u001b[32;1m\u001b[1;3mI have reversed the string successfully.\n",
      "Final Answer: 'cba321'\u001b[0m\n",
      "\n",
      "\u001b[1m> Finished chain.\u001b[0m\n"
     ]
    },
    {
     "data": {
      "text/plain": [
       "{'input': \"Take '123abc' and do what makes sense\", 'output': \"'cba321'\"}"
      ]
     },
     "execution_count": 5,
     "metadata": {},
     "output_type": "execute_result"
    }
   ],
   "source": [
    "## Step3: Run the Agent\n",
    "\n",
    "# Try out some inputs\n",
    "print(\"\\n--- Test 1: Doubling ---\")\n",
    "agent.invoke(\"Can you double 21?\")\n",
    "\n",
    "print(\"\\n--- Test 2: Reversing ---\")\n",
    "agent.invoke(\"Reverse the word 'LangChain'\")\n",
    "\n",
    "print(\"\\n--- Test 3: Confusing input ---\")\n",
    "agent.invoke(\"Take '123abc' and do what makes sense\")"
   ]
  }
 ],
 "metadata": {
  "kernelspec": {
   "display_name": ".langchain",
   "language": "python",
   "name": "python3"
  },
  "language_info": {
   "codemirror_mode": {
    "name": "ipython",
    "version": 3
   },
   "file_extension": ".py",
   "mimetype": "text/x-python",
   "name": "python",
   "nbconvert_exporter": "python",
   "pygments_lexer": "ipython3",
   "version": "3.11.11"
  }
 },
 "nbformat": 4,
 "nbformat_minor": 5
}
