{
 "cells": [
  {
   "cell_type": "markdown",
   "id": "8b6a0609",
   "metadata": {},
   "source": [
    "### What is LangServe?\n",
    "LangServe helps the developers to deploy LangChain runnables and chains as a REST API. LangServe is integrated with FastAPI and uses pydantics for data validation."
   ]
  },
  {
   "cell_type": "code",
   "execution_count": null,
   "id": "ccefef5c",
   "metadata": {},
   "outputs": [],
   "source": [
    "! pip install langserve fastapi uvicorn"
   ]
  }
 ],
 "metadata": {
  "kernelspec": {
   "display_name": ".langchain",
   "language": "python",
   "name": "python3"
  },
  "language_info": {
   "codemirror_mode": {
    "name": "ipython",
    "version": 3
   },
   "file_extension": ".py",
   "mimetype": "text/x-python",
   "name": "python",
   "nbconvert_exporter": "python",
   "pygments_lexer": "ipython3",
   "version": "3.11.11"
  }
 },
 "nbformat": 4,
 "nbformat_minor": 5
}
