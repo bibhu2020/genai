{
 "cells": [
  {
   "cell_type": "markdown",
   "id": "1eab7af0",
   "metadata": {},
   "source": [
    "## What is HuggingFace?\n",
    "Hugging Face also provide many open source models, and a platform to host the models."
   ]
  },
  {
   "cell_type": "code",
   "execution_count": 5,
   "id": "7ccc766c",
   "metadata": {},
   "outputs": [
    {
     "name": "stderr",
     "output_type": "stream",
     "text": [
      "huggingface/tokenizers: The current process just got forked, after parallelism has already been used. Disabling parallelism to avoid deadlocks...\n",
      "To disable this warning, you can either:\n",
      "\t- Avoid using `tokenizers` before the fork if possible\n",
      "\t- Explicitly set the environment variable TOKENIZERS_PARALLELISM=(true | false)\n"
     ]
    },
    {
     "name": "stdout",
     "output_type": "stream",
     "text": [
      "Requirement already satisfied: sentence_transformers in /home/azureuser/miniconda3/envs/.langchain/lib/python3.11/site-packages (3.4.1)\n",
      "Requirement already satisfied: langchain_huggingface in /home/azureuser/miniconda3/envs/.langchain/lib/python3.11/site-packages (0.1.2)\n",
      "Requirement already satisfied: transformers<5.0.0,>=4.41.0 in /home/azureuser/miniconda3/envs/.langchain/lib/python3.11/site-packages (from sentence_transformers) (4.48.2)\n",
      "Requirement already satisfied: tqdm in /home/azureuser/miniconda3/envs/.langchain/lib/python3.11/site-packages (from sentence_transformers) (4.67.1)\n",
      "Requirement already satisfied: torch>=1.11.0 in /home/azureuser/miniconda3/envs/.langchain/lib/python3.11/site-packages (from sentence_transformers) (2.6.0)\n",
      "Requirement already satisfied: scikit-learn in /home/azureuser/miniconda3/envs/.langchain/lib/python3.11/site-packages (from sentence_transformers) (1.6.1)\n",
      "Requirement already satisfied: scipy in /home/azureuser/miniconda3/envs/.langchain/lib/python3.11/site-packages (from sentence_transformers) (1.15.1)\n",
      "Requirement already satisfied: huggingface-hub>=0.20.0 in /home/azureuser/miniconda3/envs/.langchain/lib/python3.11/site-packages (from sentence_transformers) (0.28.1)\n",
      "Requirement already satisfied: Pillow in /home/azureuser/miniconda3/envs/.langchain/lib/python3.11/site-packages (from sentence_transformers) (11.1.0)\n",
      "Requirement already satisfied: langchain-core<0.4.0,>=0.3.15 in /home/azureuser/miniconda3/envs/.langchain/lib/python3.11/site-packages (from langchain_huggingface) (0.3.63)\n",
      "Requirement already satisfied: tokenizers>=0.19.1 in /home/azureuser/miniconda3/envs/.langchain/lib/python3.11/site-packages (from langchain_huggingface) (0.21.0)\n",
      "Requirement already satisfied: filelock in /home/azureuser/miniconda3/envs/.langchain/lib/python3.11/site-packages (from huggingface-hub>=0.20.0->sentence_transformers) (3.17.0)\n",
      "Requirement already satisfied: fsspec>=2023.5.0 in /home/azureuser/miniconda3/envs/.langchain/lib/python3.11/site-packages (from huggingface-hub>=0.20.0->sentence_transformers) (2024.12.0)\n",
      "Requirement already satisfied: packaging>=20.9 in /home/azureuser/miniconda3/envs/.langchain/lib/python3.11/site-packages (from huggingface-hub>=0.20.0->sentence_transformers) (24.2)\n",
      "Requirement already satisfied: pyyaml>=5.1 in /home/azureuser/miniconda3/envs/.langchain/lib/python3.11/site-packages (from huggingface-hub>=0.20.0->sentence_transformers) (6.0.2)\n",
      "Requirement already satisfied: requests in /home/azureuser/miniconda3/envs/.langchain/lib/python3.11/site-packages (from huggingface-hub>=0.20.0->sentence_transformers) (2.32.3)\n",
      "Requirement already satisfied: typing-extensions>=3.7.4.3 in /home/azureuser/miniconda3/envs/.langchain/lib/python3.11/site-packages (from huggingface-hub>=0.20.0->sentence_transformers) (4.12.2)\n",
      "Requirement already satisfied: langsmith<0.4,>=0.1.126 in /home/azureuser/miniconda3/envs/.langchain/lib/python3.11/site-packages (from langchain-core<0.4.0,>=0.3.15->langchain_huggingface) (0.3.4)\n",
      "Requirement already satisfied: tenacity!=8.4.0,<10.0.0,>=8.1.0 in /home/azureuser/miniconda3/envs/.langchain/lib/python3.11/site-packages (from langchain-core<0.4.0,>=0.3.15->langchain_huggingface) (9.0.0)\n",
      "Requirement already satisfied: jsonpatch<2.0,>=1.33 in /home/azureuser/miniconda3/envs/.langchain/lib/python3.11/site-packages (from langchain-core<0.4.0,>=0.3.15->langchain_huggingface) (1.33)\n",
      "Requirement already satisfied: pydantic>=2.7.4 in /home/azureuser/miniconda3/envs/.langchain/lib/python3.11/site-packages (from langchain-core<0.4.0,>=0.3.15->langchain_huggingface) (2.10.6)\n",
      "Requirement already satisfied: networkx in /home/azureuser/miniconda3/envs/.langchain/lib/python3.11/site-packages (from torch>=1.11.0->sentence_transformers) (3.4.2)\n",
      "Requirement already satisfied: jinja2 in /home/azureuser/miniconda3/envs/.langchain/lib/python3.11/site-packages (from torch>=1.11.0->sentence_transformers) (3.1.5)\n",
      "Requirement already satisfied: nvidia-cuda-nvrtc-cu12==12.4.127 in /home/azureuser/miniconda3/envs/.langchain/lib/python3.11/site-packages (from torch>=1.11.0->sentence_transformers) (12.4.127)\n",
      "Requirement already satisfied: nvidia-cuda-runtime-cu12==12.4.127 in /home/azureuser/miniconda3/envs/.langchain/lib/python3.11/site-packages (from torch>=1.11.0->sentence_transformers) (12.4.127)\n",
      "Requirement already satisfied: nvidia-cuda-cupti-cu12==12.4.127 in /home/azureuser/miniconda3/envs/.langchain/lib/python3.11/site-packages (from torch>=1.11.0->sentence_transformers) (12.4.127)\n",
      "Requirement already satisfied: nvidia-cudnn-cu12==9.1.0.70 in /home/azureuser/miniconda3/envs/.langchain/lib/python3.11/site-packages (from torch>=1.11.0->sentence_transformers) (9.1.0.70)\n",
      "Requirement already satisfied: nvidia-cublas-cu12==12.4.5.8 in /home/azureuser/miniconda3/envs/.langchain/lib/python3.11/site-packages (from torch>=1.11.0->sentence_transformers) (12.4.5.8)\n",
      "Requirement already satisfied: nvidia-cufft-cu12==11.2.1.3 in /home/azureuser/miniconda3/envs/.langchain/lib/python3.11/site-packages (from torch>=1.11.0->sentence_transformers) (11.2.1.3)\n",
      "Requirement already satisfied: nvidia-curand-cu12==10.3.5.147 in /home/azureuser/miniconda3/envs/.langchain/lib/python3.11/site-packages (from torch>=1.11.0->sentence_transformers) (10.3.5.147)\n",
      "Requirement already satisfied: nvidia-cusolver-cu12==11.6.1.9 in /home/azureuser/miniconda3/envs/.langchain/lib/python3.11/site-packages (from torch>=1.11.0->sentence_transformers) (11.6.1.9)\n",
      "Requirement already satisfied: nvidia-cusparse-cu12==12.3.1.170 in /home/azureuser/miniconda3/envs/.langchain/lib/python3.11/site-packages (from torch>=1.11.0->sentence_transformers) (12.3.1.170)\n",
      "Requirement already satisfied: nvidia-cusparselt-cu12==0.6.2 in /home/azureuser/miniconda3/envs/.langchain/lib/python3.11/site-packages (from torch>=1.11.0->sentence_transformers) (0.6.2)\n",
      "Requirement already satisfied: nvidia-nccl-cu12==2.21.5 in /home/azureuser/miniconda3/envs/.langchain/lib/python3.11/site-packages (from torch>=1.11.0->sentence_transformers) (2.21.5)\n",
      "Requirement already satisfied: nvidia-nvtx-cu12==12.4.127 in /home/azureuser/miniconda3/envs/.langchain/lib/python3.11/site-packages (from torch>=1.11.0->sentence_transformers) (12.4.127)\n",
      "Requirement already satisfied: nvidia-nvjitlink-cu12==12.4.127 in /home/azureuser/miniconda3/envs/.langchain/lib/python3.11/site-packages (from torch>=1.11.0->sentence_transformers) (12.4.127)\n",
      "Requirement already satisfied: triton==3.2.0 in /home/azureuser/miniconda3/envs/.langchain/lib/python3.11/site-packages (from torch>=1.11.0->sentence_transformers) (3.2.0)\n",
      "Requirement already satisfied: sympy==1.13.1 in /home/azureuser/miniconda3/envs/.langchain/lib/python3.11/site-packages (from torch>=1.11.0->sentence_transformers) (1.13.1)\n",
      "Requirement already satisfied: mpmath<1.4,>=1.1.0 in /home/azureuser/miniconda3/envs/.langchain/lib/python3.11/site-packages (from sympy==1.13.1->torch>=1.11.0->sentence_transformers) (1.3.0)\n",
      "Requirement already satisfied: numpy>=1.17 in /home/azureuser/miniconda3/envs/.langchain/lib/python3.11/site-packages (from transformers<5.0.0,>=4.41.0->sentence_transformers) (1.26.4)\n",
      "Requirement already satisfied: regex!=2019.12.17 in /home/azureuser/miniconda3/envs/.langchain/lib/python3.11/site-packages (from transformers<5.0.0,>=4.41.0->sentence_transformers) (2024.11.6)\n",
      "Requirement already satisfied: safetensors>=0.4.1 in /home/azureuser/miniconda3/envs/.langchain/lib/python3.11/site-packages (from transformers<5.0.0,>=4.41.0->sentence_transformers) (0.5.2)\n",
      "Requirement already satisfied: joblib>=1.2.0 in /home/azureuser/miniconda3/envs/.langchain/lib/python3.11/site-packages (from scikit-learn->sentence_transformers) (1.4.2)\n",
      "Requirement already satisfied: threadpoolctl>=3.1.0 in /home/azureuser/miniconda3/envs/.langchain/lib/python3.11/site-packages (from scikit-learn->sentence_transformers) (3.5.0)\n",
      "Requirement already satisfied: jsonpointer>=1.9 in /home/azureuser/miniconda3/envs/.langchain/lib/python3.11/site-packages (from jsonpatch<2.0,>=1.33->langchain-core<0.4.0,>=0.3.15->langchain_huggingface) (3.0.0)\n",
      "Requirement already satisfied: httpx<1,>=0.23.0 in /home/azureuser/miniconda3/envs/.langchain/lib/python3.11/site-packages (from langsmith<0.4,>=0.1.126->langchain-core<0.4.0,>=0.3.15->langchain_huggingface) (0.28.1)\n",
      "Requirement already satisfied: orjson<4.0.0,>=3.9.14 in /home/azureuser/miniconda3/envs/.langchain/lib/python3.11/site-packages (from langsmith<0.4,>=0.1.126->langchain-core<0.4.0,>=0.3.15->langchain_huggingface) (3.10.15)\n",
      "Requirement already satisfied: requests-toolbelt<2.0.0,>=1.0.0 in /home/azureuser/miniconda3/envs/.langchain/lib/python3.11/site-packages (from langsmith<0.4,>=0.1.126->langchain-core<0.4.0,>=0.3.15->langchain_huggingface) (1.0.0)\n",
      "Requirement already satisfied: zstandard<0.24.0,>=0.23.0 in /home/azureuser/miniconda3/envs/.langchain/lib/python3.11/site-packages (from langsmith<0.4,>=0.1.126->langchain-core<0.4.0,>=0.3.15->langchain_huggingface) (0.23.0)\n",
      "Requirement already satisfied: annotated-types>=0.6.0 in /home/azureuser/miniconda3/envs/.langchain/lib/python3.11/site-packages (from pydantic>=2.7.4->langchain-core<0.4.0,>=0.3.15->langchain_huggingface) (0.7.0)\n",
      "Requirement already satisfied: pydantic-core==2.27.2 in /home/azureuser/miniconda3/envs/.langchain/lib/python3.11/site-packages (from pydantic>=2.7.4->langchain-core<0.4.0,>=0.3.15->langchain_huggingface) (2.27.2)\n",
      "Requirement already satisfied: charset-normalizer<4,>=2 in /home/azureuser/miniconda3/envs/.langchain/lib/python3.11/site-packages (from requests->huggingface-hub>=0.20.0->sentence_transformers) (3.4.1)\n",
      "Requirement already satisfied: idna<4,>=2.5 in /home/azureuser/miniconda3/envs/.langchain/lib/python3.11/site-packages (from requests->huggingface-hub>=0.20.0->sentence_transformers) (3.10)\n",
      "Requirement already satisfied: urllib3<3,>=1.21.1 in /home/azureuser/miniconda3/envs/.langchain/lib/python3.11/site-packages (from requests->huggingface-hub>=0.20.0->sentence_transformers) (2.3.0)\n",
      "Requirement already satisfied: certifi>=2017.4.17 in /home/azureuser/miniconda3/envs/.langchain/lib/python3.11/site-packages (from requests->huggingface-hub>=0.20.0->sentence_transformers) (2025.1.31)\n",
      "Requirement already satisfied: MarkupSafe>=2.0 in /home/azureuser/miniconda3/envs/.langchain/lib/python3.11/site-packages (from jinja2->torch>=1.11.0->sentence_transformers) (3.0.2)\n",
      "Requirement already satisfied: anyio in /home/azureuser/miniconda3/envs/.langchain/lib/python3.11/site-packages (from httpx<1,>=0.23.0->langsmith<0.4,>=0.1.126->langchain-core<0.4.0,>=0.3.15->langchain_huggingface) (4.8.0)\n",
      "Requirement already satisfied: httpcore==1.* in /home/azureuser/miniconda3/envs/.langchain/lib/python3.11/site-packages (from httpx<1,>=0.23.0->langsmith<0.4,>=0.1.126->langchain-core<0.4.0,>=0.3.15->langchain_huggingface) (1.0.7)\n",
      "Requirement already satisfied: h11<0.15,>=0.13 in /home/azureuser/miniconda3/envs/.langchain/lib/python3.11/site-packages (from httpcore==1.*->httpx<1,>=0.23.0->langsmith<0.4,>=0.1.126->langchain-core<0.4.0,>=0.3.15->langchain_huggingface) (0.14.0)\n",
      "Requirement already satisfied: sniffio>=1.1 in /home/azureuser/miniconda3/envs/.langchain/lib/python3.11/site-packages (from anyio->httpx<1,>=0.23.0->langsmith<0.4,>=0.1.126->langchain-core<0.4.0,>=0.3.15->langchain_huggingface) (1.3.1)\n"
     ]
    }
   ],
   "source": [
    "# Required libraries\n",
    "! pip install sentence_transformers langchain_huggingface"
   ]
  },
  {
   "cell_type": "code",
   "execution_count": 6,
   "id": "1c38e0d8",
   "metadata": {},
   "outputs": [
    {
     "name": "stderr",
     "output_type": "stream",
     "text": [
      "Note: Environment variable`HF_TOKEN` is set and is the current active token independently from the token you've just configured.\n"
     ]
    },
    {
     "data": {
      "text/plain": [
       "HuggingFaceEmbeddings(model_name='all-MiniLM-L6-v2', cache_folder=None, model_kwargs={}, encode_kwargs={}, multi_process=False, show_progress=False)"
      ]
     },
     "execution_count": 6,
     "metadata": {},
     "output_type": "execute_result"
    }
   ],
   "source": [
    "# Connect to LLM using my libraries\n",
    "from utility.llm_factory import LLMFactory\n",
    "\n",
    "embedding_model = LLMFactory.get_embedding_model(\"huggingface\", model_name=\"all-MiniLM-L6-v2\")\n",
    "embedding_model"
   ]
  },
  {
   "cell_type": "markdown",
   "id": "15360b6d",
   "metadata": {},
   "source": [
    "### Sentence Transformers on Hugging Face\n",
    "Hugging Face sentence-transformers is a python framework for state-of-the-art sentence, text and image embeddings. One of the embedding models is used in the HuggingFaceEmbeddings class. We have also added an alias for SentenceTransformerEmbeddings for users who are more famillar with directly using that package."
   ]
  },
  {
   "cell_type": "code",
   "execution_count": 7,
   "id": "d883a328",
   "metadata": {},
   "outputs": [
    {
     "name": "stdout",
     "output_type": "stream",
     "text": [
      "[0.010076949372887611, -0.0017390934517607093, 0.05018017441034317, 0.04702519625425339, 0.05492459610104561, 0.00869524572044611, 0.10545976459980011, -0.025911128148436546, 0.12947818636894226, 0.03196641802787781, -0.04449514299631119, -0.008958651684224606, -0.0005428381846286356, -0.06376104056835175, -0.016147548332810402, 0.04666970670223236, -0.022032422944903374, -0.1582026332616806, -0.07292037457227707, -0.061305586248636246, -0.06590540707111359, 0.054199669510126114, -0.06216304749250412, 0.03894707188010216, -0.04587395489215851, 0.054934173822402954, -0.03527248278260231, 0.01266008522361517, 0.04252506047487259, -0.007990885525941849, -0.019042594358325005, 0.06094198301434517, 0.0369039811193943, 0.01350767444819212, -0.025806181132793427, -0.043561674654483795, 0.07244455069303513, -0.04851972684264183, 0.004293750040233135, -0.029454175382852554, -0.029107267037034035, -0.03296322748064995, -0.018351396545767784, 0.015543718822300434, -0.01179700531065464, 0.015264095738530159, -0.00940488651394844, 0.025990748777985573, 0.09524869918823242, -0.015528440475463867, -0.024508032947778702, 0.009018532931804657, -0.07657085359096527, 0.015932556241750717, 0.04956819862127304, 0.11594606190919876, 0.0008922521956264973, -0.020338064059615135, 0.09227276593446732, 0.008438138291239738, -0.05705464258790016, 0.06880701333284378, -0.0766090601682663, 0.06933141499757767, 0.09234458953142166, -0.055485378950834274, -0.053644489496946335, 0.008478195406496525, -0.06316240131855011, -0.06637135148048401, -0.024967102333903313, 0.01885044202208519, 0.06147253140807152, -0.02831125073134899, 0.03626677766442299, 0.0010648531606420875, 0.06074195355176926, -0.06755147129297256, -0.008163703605532646, -0.012739172205328941, 0.031022820621728897, -0.06386178731918335, -0.0745290145277977, 0.11906469613313675, 0.012620066292583942, 0.06535395979881287, 0.014797921292483807, 0.051377661526203156, -0.08528377115726471, 0.010211928747594357, -0.007806870155036449, -0.03554675728082657, -0.11541955918073654, -0.03056330233812332, -0.08323442935943604, 0.013668082654476166, 0.05647400766611099, -0.040923651307821274, 0.0426945798099041, 0.02215658128261566, 0.04696374014019966, -0.051362451165914536, 0.030185692012310028, 0.007153792306780815, -0.004123086575418711, -0.031146923080086708, 0.07774621248245239, 0.03428519889712334, 0.061346083879470825, 0.007519281469285488, -0.03622186928987503, -0.08461105078458786, 0.02180548384785652, -0.019408924505114555, -0.039812397211790085, 0.05479641258716583, -0.03371477872133255, 0.018045637756586075, -0.10556463152170181, -0.050430912524461746, -0.011469819582998753, 0.03780389577150345, 0.022163614630699158, 0.0804191306233406, 0.007821423001587391, -0.01685001328587532, -0.05941436067223549, -7.222244638291827e-33, 0.1353040188550949, -0.0112331947311759, 0.09231411665678024, 0.035894107073545456, 0.0396854467689991, -0.05497129634022713, -0.035071372985839844, -0.0036888406611979008, -0.019564637914299965, -0.03499765694141388, -0.0056670187041163445, -0.014555566012859344, -0.024302979931235313, -0.04837869107723236, 0.047784507274627686, -0.017077147960662842, -0.06087794899940491, 0.005858875811100006, -0.08306178450584412, 0.08436977118253708, -0.10471236705780029, 0.0417291559278965, -0.03672896698117256, -0.008111939765512943, -0.02823350392282009, -0.04312954470515251, 0.03605441004037857, 0.07497137039899826, 0.056358326226472855, 0.011895749717950821, 0.09849240630865097, 0.10483673959970474, -0.021891335025429726, 0.045942943543195724, -0.026336010545492172, -0.05094354972243309, -0.01467366423457861, -0.006439340300858021, -0.08587417006492615, 0.028604833409190178, -0.0535900741815567, 0.05649495869874954, -0.05987896770238876, 0.012476770207285881, 0.06613557785749435, -0.01335238665342331, 0.03838231787085533, -0.0888221338391304, -0.057418402284383774, 0.032096583396196365, -0.03452850133180618, 0.0236072838306427, 0.014461529441177845, -0.041607581079006195, 0.06808552891016006, 0.03125661239027977, 0.0697123184800148, -0.034991029649972916, -0.003328923135995865, 0.04925517365336418, -0.01335847470909357, -0.003583886893466115, 0.05081821233034134, 0.07857807725667953, 0.0377105250954628, -0.011582217179238796, 0.03801301121711731, 0.042014993727207184, -0.012804019264876842, -0.07892529666423798, 0.009083904325962067, 0.01336581353098154, 0.02419126033782959, 0.009716995060443878, -0.010840860195457935, -0.08166390657424927, 0.027018094435334206, -0.029564065858721733, -0.0043364958837628365, 0.012987286783754826, -0.03526918217539787, -0.01961851492524147, 0.05529553070664406, -0.061190955340862274, -0.05501947179436684, 0.012589083053171635, -0.01915271393954754, -0.012472140602767467, -0.01584467664361, -0.06937815994024277, -0.044815078377723694, -0.04885809123516083, 0.048312921077013016, -0.10444512963294983, -0.10795858502388, 3.587317089173824e-33, -0.0004939069622196257, -0.08629809319972992, -0.08784779161214828, 0.007143540307879448, -0.0073847053572535515, -0.016596632078289986, 0.045266058295965195, 0.06754826754331589, -0.04291075840592384, 0.08633225411176682, 0.045588284730911255, 0.06797745823860168, 0.009971697814762592, -0.00300166429951787, 0.058574967086315155, -0.03558843582868576, 0.03624217212200165, 0.06618981808423996, -0.037774745374917984, -0.062238678336143494, -0.044561851769685745, 0.07714139670133591, 0.04331989586353302, -0.021282481029629707, -0.021688276901841164, 0.06235935911536217, -0.03909111022949219, 0.02809729613363743, -0.013025995343923569, 0.05106043443083763, -0.03680972382426262, 0.054689921438694, -0.06644845753908157, 0.022892707958817482, 0.004855342209339142, 0.09050673991441727, 0.005081712733954191, -0.08314625918865204, -0.05515962466597557, 0.07311223447322845, -0.11048200726509094, -0.02025633491575718, 0.11248499155044556, -0.053315892815589905, -0.057676054537296295, -0.023850804194808006, 0.05653798207640648, 0.12729540467262268, 0.03594290092587471, -0.043925777077674866, 0.0170363187789917, -0.024879315868020058, 0.07263478636741638, 0.0433269701898098, 0.08035149425268173, -0.01945296861231327, -0.03441596403717995, 0.09666464477777481, 0.05198382958769798, 0.010773132555186749, 0.04018416255712509, 0.002215963089838624, -0.007654913235455751, 0.0016542737139388919, 0.014221922494471073, 0.020327415317296982, -0.02305559441447258, 0.021489309147000313, -0.009116343222558498, -0.05043303966522217, -0.016200022771954536, -0.08994609117507935, -0.06073545664548874, 0.08098366111516953, 0.002482030773535371, 0.04172740504145622, 0.043725669384002686, -0.025200048461556435, -0.09534744173288345, 0.0886615514755249, -0.09845615178346634, -0.004809040576219559, 0.03540828824043274, 0.014244244433939457, -0.06452388316392899, -0.07597723603248596, 0.012374866753816605, -0.05029388144612312, -0.055755846202373505, -0.057043153792619705, -0.01836063712835312, -0.002124073915183544, -0.0022886113729327917, 0.03532649949193001, -0.054699741303920746, -1.4306202444913652e-08, -0.007900293916463852, 0.026623260229825974, 0.0022419479209929705, 0.010001610033214092, -0.021656958386301994, -0.021566031500697136, 0.11135350912809372, 0.004661037120968103, 0.03785346820950508, 0.004079235717654228, -0.06694484502077103, -0.028267281129956245, -0.04428553581237793, 0.07126350700855255, 0.01879265531897545, -0.04901236295700073, -0.10403293371200562, -0.04369920864701271, 0.010118914768099785, 0.041766270995140076, -0.013627956621348858, -0.03377004712820053, -0.025090539827942848, -0.013618438504636288, 0.0034387509804219007, 0.03310771286487579, -0.021851137280464172, 0.02183576300740242, 0.0714036151766777, 0.020506883040070534, 0.024461086839437485, 0.03600567206740379, -0.000963104423135519, -0.06137251481413841, -0.08529672026634216, 0.007432494778186083, -0.03875994309782982, 0.07992954552173615, -0.025525880977511406, -0.06040290370583534, 0.060614049434661865, 0.08230504393577576, -0.05668365955352783, 0.00492814602330327, 0.045090451836586, 0.023647423833608627, 0.043518487364053726, 0.09106618165969849, -0.05148753523826599, -0.011236676014959812, -0.06878846138715744, 0.007300793193280697, 0.07274816185235977, -0.04338350519537926, 0.025873320177197456, -0.11406619846820831, -0.009470242075622082, 0.02225339412689209, 0.026693591848015785, 0.0036928525660187006, 0.01602013409137726, 0.003603840945288539, -0.02080569788813591, 0.03358270972967148]\n",
      "[[0.017192158848047256, -0.005975291598588228, 0.09165506064891815, 0.01238891389220953, 0.05358351767063141, 0.01636185124516487, 0.08946181833744049, -0.01835484988987446, 0.09557722508907318, 0.03270430117845535, -0.04634161293506622, -0.0056167347356677055, 0.029500668868422508, -0.04341965541243553, 0.021774491295218468, 0.10349319130182266, -0.004946840927004814, -0.12968172132968903, -0.05534574016928673, -0.03675141558051109, -0.03769569844007492, 0.05514226481318474, -0.05303733050823212, 0.05091547593474388, -0.08339197933673859, 0.047360148280858994, -0.02782215178012848, 0.03096851147711277, 0.017933281138539314, 0.06761588156223297, -0.05235540121793747, 0.0780268982052803, 0.04525882005691528, 0.0136485043913126, -0.029500290751457214, -0.04010981321334839, 0.03440767899155617, -0.025161247700452805, -0.02909339964389801, -0.017839977517724037, -0.010187538340687752, -0.034446634352207184, -0.030286597087979317, -0.024671485647559166, -0.040618374943733215, 0.0018193345749750733, -0.034381695091724396, 0.04526662826538086, 0.039325568825006485, -0.009549740701913834, -0.03391158953309059, 0.040289901196956635, -0.1003817692399025, 0.0051369997672736645, 0.013793902471661568, 0.11396818608045578, 0.0008184819598682225, -0.02660915069282055, 0.09486494958400726, -0.008262045681476593, -0.057900335639715195, 0.038687363266944885, -0.049813974648714066, 0.04520343616604805, 0.09128361195325851, 0.013694345951080322, -0.054514214396476746, 0.034687187522649765, -0.09202305972576141, -0.10300798714160919, -0.0021420095581561327, 0.02344413846731186, 0.004534795414656401, -0.009496226906776428, 0.022762993350625038, 0.029585398733615875, 0.013446553610265255, -0.03522219508886337, 0.010162612423300743, -0.034107014536857605, 0.08295562863349915, -0.026547010987997055, -0.07832138985395432, 0.10893982648849487, -0.01253753062337637, 0.03536225110292435, -0.00029758119489997625, 0.03903822600841522, -0.07323488593101501, -0.0032589889597147703, -0.02031017653644085, -0.04769616574048996, -0.10380232334136963, -0.044020552188158035, -0.05040164664387703, 0.019037790596485138, 0.06395193189382553, 0.0031223492696881294, 0.06763312965631485, -0.034302372485399246, 0.024460231885313988, -0.04974021017551422, -0.010918503627181053, 0.0032962290570139885, 0.009138221852481365, 0.0035514291375875473, 0.06401762366294861, 0.044229570776224136, 0.04438181221485138, -0.014280561357736588, 0.004620065446943045, -0.09983198344707489, 0.03699139505624771, -0.022409914061427116, -0.0366247333586216, 0.10963550955057144, -0.007282316219061613, 0.031789638102054596, -0.10910365730524063, -0.05095542594790459, 0.00026476013590581715, 0.05391374230384827, 0.028104271739721298, 0.062285881489515305, 0.04092937335371971, -0.05578550696372986, -0.003988512326031923, -6.262459378317183e-33, 0.13373729586601257, 0.02174638956785202, 0.10584541410207748, 0.011322456412017345, 0.008147419430315495, -0.05861511453986168, -0.03747618943452835, 0.00053801090689376, -0.025188306346535683, -0.038582686334848404, 0.005748067516833544, -0.012433460913598537, 0.011191081255674362, -0.002932849107310176, 0.020341772586107254, 0.01595952734351158, -0.019298063591122627, -0.0010857387678697705, -0.08312340825796127, 0.11595148593187332, -0.09928026050329208, 0.013184862211346626, -0.010597852990031242, -0.009880146011710167, -0.0037913606502115726, -0.08067374676465988, 0.05291812866926193, 0.05698603764176369, 0.018357519060373306, -0.02372002974152565, 0.09677479416131973, 0.07004939764738083, -0.029907789081335068, 0.049753304570913315, -0.013437576591968536, -0.07732833176851273, 0.01875036023557186, 0.01952875591814518, -0.09103461354970932, 0.017607267946004868, -0.10756902396678925, 0.0680818036198616, -0.05468890443444252, 0.0026891722809523344, 0.06321883201599121, 0.0013029680121690035, 0.05127149075269699, -0.06877349317073822, 0.01494762022048235, 0.06762280315160751, -0.038267675787210464, 0.013173723593354225, 0.042270228266716, -0.04690418019890785, 0.05677654221653938, 0.0419730506837368, 0.06610233336687088, 0.0015624917577952147, -0.05169450491666794, 0.05825645849108696, 0.00219529215246439, -0.05100486800074577, 0.0616106353700161, 0.04583760350942612, 0.05264081805944443, 0.013531308621168137, -0.01175626926124096, 0.048460789024829865, -0.03103540651500225, -0.10637868195772171, 0.00726446183398366, 0.005654199048876762, 0.04915911704301834, 0.027668040245771408, -0.003623533993959427, -0.078061044216156, 0.03571878373622894, -0.07174021005630493, -0.01768183335661888, 0.043289076536893845, -0.01700449548661709, -0.0563969723880291, 0.06980403512716293, -0.08200637251138687, -0.0962599366903305, 0.004794885404407978, -0.013759487308561802, 0.008264572359621525, -0.008342927321791649, -0.05757586285471916, 0.004781724419444799, -0.02441524527966976, -0.0057491217739880085, -0.062345150858163834, -0.04020635783672333, 1.689323135375864e-33, 0.00896297488361597, -0.05317296087741852, -0.0862177237868309, -0.0303571168333292, 0.018929654732346535, -0.010593068785965443, -0.0008065521251410246, 0.006328126881271601, -0.03750770166516304, 0.07249322533607483, 0.03687288984656334, 0.14177438616752625, -0.02973318099975586, -0.0022498187609016895, -0.020217783749103546, -0.04539204761385918, -0.0001736532722134143, 0.050260867923498154, -0.09129074960947037, 0.010237524285912514, -0.055591732263565063, 0.04363429546356201, 0.07386792451143265, -0.02632535994052887, -0.0031817471608519554, 0.036039941012859344, -0.036866869777441025, 0.040912073105573654, 0.018776174634695053, 0.062461793422698975, -0.06471721827983856, 0.07100450992584229, -0.02436012588441372, -0.027739055454730988, 0.012232114560902119, 0.06382004916667938, 0.0014810055727139115, -0.1260218620300293, -0.04198838397860527, 0.06493595242500305, -0.07529350370168686, -0.03510721027851105, 0.07552419602870941, -0.15332895517349243, -0.06562292575836182, -0.04365106672048569, -0.006917702034115791, 0.12258628755807877, -0.014491220936179161, -0.04546988382935524, 0.0016823641490191221, -0.03271891176700592, 0.03023981861770153, 0.039562854915857315, 0.07203532010316849, -0.02019127644598484, -9.78844182100147e-05, 0.07319118827581406, 0.04259477183222771, 0.02525077760219574, 0.0061212824657559395, -0.01823469065129757, 0.030229412019252777, -0.004380667582154274, -0.01807129941880703, -0.03937797620892525, 0.005500208120793104, 0.0034752122592180967, -0.01964305154979229, -0.003915014211088419, -0.009822089225053787, -0.10121273994445801, -0.07641401886940002, 0.09668991714715958, 0.041065458208322525, 0.00941857136785984, 0.03361920267343521, -0.0258257407695055, -0.09877951443195343, 0.084090955555439, -0.011108173988759518, -0.017505936324596405, 0.05606590583920479, 0.03018815629184246, -0.06077572703361511, -0.04136357828974724, -0.032006263732910156, -0.08291447162628174, -0.05793191120028496, -0.07138143479824066, -0.024786224588751793, 0.0015461057191714644, 0.01440779585391283, 0.02643248625099659, -0.06590783596038818, -2.6288642374083793e-08, 0.02154274471104145, -0.028871165588498116, 0.03508223965764046, 0.05109892413020134, -0.0537429116666317, 0.013205115683376789, 0.11189042776823044, -0.02326759696006775, 0.028073661029338837, 0.023191506043076515, -0.0849255695939064, -0.028547052294015884, -0.03718651831150055, 0.053127262741327286, 0.007117852568626404, -0.032771751284599304, -0.08011950552463531, -0.06376516819000244, 0.021911008283495903, 0.04867788404226303, -0.05082634091377258, -0.06052398309111595, -0.028206881135702133, -0.002726651495322585, 0.01239037699997425, 0.0328097902238369, -0.0030889823101460934, -0.004260852001607418, 0.08367030322551727, 0.005344877950847149, 0.04476984217762947, -0.006970626767724752, 0.043989621102809906, -0.07380826026201248, -0.08393748849630356, 0.015916738659143448, -0.05896148085594177, 0.09159309417009354, -0.05824539065361023, -0.027926549315452576, 0.04028305038809776, 0.03300617262721062, -0.07154800742864609, -0.02811995893716812, 0.03825711831450462, 0.0034241527318954468, 0.02826954983174801, 0.06254743784666061, -0.031185967847704887, 0.016048576682806015, -0.009303866885602474, -0.029666511341929436, 0.05633474513888359, -0.10003791749477386, 0.03781416639685631, -0.0892612561583519, -0.024096617475152016, 0.059054382145404816, 0.09206315875053406, -0.0009639670024625957, 0.006331679876893759, 0.013549618422985077, -0.043646689504384995, 0.03752453625202179]]\n"
     ]
    }
   ],
   "source": [
    "\n",
    "r1= embedding_model.embed_query(\"Why is the sky blue?\")\n",
    "r2= embedding_model.embed_documents([\"The sky is blue because of the way sunlight interacts with the Earth's atmosphere.\"])\n",
    "print(r1)\n",
    "print(r2)\n"
   ]
  },
  {
   "cell_type": "code",
   "execution_count": 8,
   "id": "986c7fd5",
   "metadata": {},
   "outputs": [
    {
     "data": {
      "text/plain": [
       "[Document(metadata={'source': './_data/speech.txt'}, page_content=\"Good morning everyone,\\n\\nToday, I want to talk about something incredibly simple, yet profoundly powerful: small steps.\\n\\nIn a world obsessed with big wins and overnight success, we often forget that every great achievement starts with a single small action.\\n\\nWhether you're trying to learn a new skill, change a habit, or build something meaningful — it always begins with the decision to take one small step forward.\\n\\nThink about the tallest buildings. They're built one brick at a time. Olympic athletes? They train for years, often making tiny improvements day after day.\\n\\nSo, the next time you feel overwhelmed by your goals, just focus on the next step. Not the next ten, not the whole staircase — just the next one.\\n\\nProgress isn’t always loud. Sometimes, it whispers.\\n\\nBut those whispers? They build momentum.\\n\\nAnd that momentum? It builds success.\\n\\nThank you.\\n\\n\")]"
      ]
     },
     "execution_count": 8,
     "metadata": {},
     "output_type": "execute_result"
    }
   ],
   "source": [
    "## Step2: Load a text file as a document\n",
    "from langchain_community.document_loaders import TextLoader\n",
    "\n",
    "loader = TextLoader('./_data/speech.txt', encoding='utf-8')\n",
    "docs = loader.load()\n",
    "\n",
    "docs"
   ]
  },
  {
   "cell_type": "code",
   "execution_count": 9,
   "id": "99ee10eb",
   "metadata": {},
   "outputs": [
    {
     "data": {
      "text/plain": [
       "[Document(metadata={}, page_content='Good morning everyone,'),\n",
       " Document(metadata={}, page_content='Today, I want to talk about something incredibly simple, yet profoundly'),\n",
       " Document(metadata={}, page_content='yet profoundly powerful: small steps.'),\n",
       " Document(metadata={}, page_content='In a world obsessed with big wins and overnight success, we often forget that'),\n",
       " Document(metadata={}, page_content='often forget that every great achievement starts with a single small action.'),\n",
       " Document(metadata={}, page_content=\"Whether you're trying to learn a new skill, change a habit, or build something\"),\n",
       " Document(metadata={}, page_content='or build something meaningful — it always begins with the decision to take one'),\n",
       " Document(metadata={}, page_content='to take one small step forward.'),\n",
       " Document(metadata={}, page_content=\"Think about the tallest buildings. They're built one brick at a time. Olympic\"),\n",
       " Document(metadata={}, page_content='at a time. Olympic athletes? They train for years, often making tiny'),\n",
       " Document(metadata={}, page_content='often making tiny improvements day after day.'),\n",
       " Document(metadata={}, page_content='So, the next time you feel overwhelmed by your goals, just focus on the next'),\n",
       " Document(metadata={}, page_content='focus on the next step. Not the next ten, not the whole staircase — just the'),\n",
       " Document(metadata={}, page_content='— just the next one.'),\n",
       " Document(metadata={}, page_content='Progress isn’t always loud. Sometimes, it whispers.'),\n",
       " Document(metadata={}, page_content='But those whispers? They build momentum.'),\n",
       " Document(metadata={}, page_content='And that momentum? It builds success.\\n\\nThank you.')]"
      ]
     },
     "execution_count": 9,
     "metadata": {},
     "output_type": "execute_result"
    }
   ],
   "source": [
    "## Step 3: Split the document into smaller chunks\n",
    "\n",
    "from langchain.text_splitter import RecursiveCharacterTextSplitter\n",
    "\n",
    "\n",
    "with open('./_data/speech.txt', 'r', encoding='utf-8') as f:\n",
    "    speech = f.read()\n",
    "\n",
    "text_splitter = RecursiveCharacterTextSplitter(\n",
    "    chunk_size=80,\n",
    "    chunk_overlap=20\n",
    ")\n",
    "\n",
    "#final_documents = text_splitter.split_text(speech)\n",
    "\n",
    "# Note: the input here is a list of text strings, not Document objects.\n",
    "document_chunks = text_splitter.create_documents([speech])\n",
    "document_chunks[::]  # Display the first two chunks"
   ]
  },
  {
   "cell_type": "markdown",
   "id": "24fbf77f",
   "metadata": {},
   "source": [
    "#### FAISS (Facebook AI Simillarity Search)\n",
    "FAISS is a library for efficient simillarity search and clustering of dense vectors. It contains algorithms that search in sets of vectors of any size, up to ones that possibly do not fit in RAM. It also contains supporting code for evaluation and parameter tunning."
   ]
  },
  {
   "cell_type": "code",
   "execution_count": 10,
   "id": "383af02e",
   "metadata": {},
   "outputs": [
    {
     "data": {
      "text/plain": [
       "<langchain_community.vectorstores.faiss.FAISS at 0x76e7b5dd2e90>"
      ]
     },
     "execution_count": 10,
     "metadata": {},
     "output_type": "execute_result"
    }
   ],
   "source": [
    "## Step4: Create embeddings for the document chunks\n",
    "## and store them in a vector database\n",
    "from langchain.vectorstores import FAISS #(Using faiss-cpu for testing)\n",
    "vector_store_db = FAISS.from_documents(document_chunks, embedding_model)\n",
    "\n",
    "vector_store_db"
   ]
  },
  {
   "cell_type": "code",
   "execution_count": 11,
   "id": "d90952dd",
   "metadata": {},
   "outputs": [
    {
     "name": "stdout",
     "output_type": "stream",
     "text": [
      "<class 'list'>\n",
      "Result 1:\n",
      "Progress isn’t always loud. Sometimes, it whispers.\n",
      "----------------------------------------\n",
      "Result 2:\n",
      "But those whispers? They build momentum.\n",
      "----------------------------------------\n",
      "Result 3:\n",
      "And that momentum? It builds success.\n",
      "\n",
      "Thank you.\n",
      "----------------------------------------\n"
     ]
    }
   ],
   "source": [
    "## Step5: Query the vector store\n",
    "query = \"Progress isn’t always loud. Sometimes, it whispers.\"\n",
    "results = vector_store_db.similarity_search(query, k=3)\n",
    "print(type(results))\n",
    "# Display the results\n",
    "for i, result in enumerate(results):\n",
    "    print(f\"Result {i+1}:\")\n",
    "    print(result.page_content)\n",
    "    print(\"-\" * 40)"
   ]
  },
  {
   "cell_type": "code",
   "execution_count": 12,
   "id": "ab36c10e",
   "metadata": {},
   "outputs": [],
   "source": [
    "# Step6: store the db to local folder\n",
    "vector_store_db.save_local(\"./_data/faiss_db\")\n",
    "\n"
   ]
  },
  {
   "cell_type": "code",
   "execution_count": 13,
   "id": "82630a4f",
   "metadata": {},
   "outputs": [],
   "source": [
    "# Step7: Load the vector store from local folder\n",
    "from langchain.vectorstores import FAISS\n",
    "vector_store_db_loaded = FAISS.load_local(\"./_data/faiss_db\", \n",
    "embedding_model, \n",
    "allow_dangerous_deserialization=True)\n"
   ]
  },
  {
   "cell_type": "code",
   "execution_count": 14,
   "id": "16c3331f",
   "metadata": {},
   "outputs": [
    {
     "name": "stdout",
     "output_type": "stream",
     "text": [
      "<class 'list'>\n",
      "Result 1:\n",
      "Progress isn’t always loud. Sometimes, it whispers.\n",
      "----------------------------------------\n",
      "Result 2:\n",
      "But those whispers? They build momentum.\n",
      "----------------------------------------\n",
      "Result 3:\n",
      "And that momentum? It builds success.\n",
      "\n",
      "Thank you.\n",
      "----------------------------------------\n"
     ]
    }
   ],
   "source": [
    "## Step8: Query the vector store\n",
    "query = \"Progress isn’t always loud. Sometimes, it whispers.\"\n",
    "results = vector_store_db_loaded.similarity_search(query, k=3)\n",
    "print(type(results))\n",
    "# Display the results\n",
    "for i, result in enumerate(results):\n",
    "    print(f\"Result {i+1}:\")\n",
    "    print(result.page_content)\n",
    "    print(\"-\" * 40)"
   ]
  }
 ],
 "metadata": {
  "kernelspec": {
   "display_name": ".langchain",
   "language": "python",
   "name": "python3"
  },
  "language_info": {
   "codemirror_mode": {
    "name": "ipython",
    "version": 3
   },
   "file_extension": ".py",
   "mimetype": "text/x-python",
   "name": "python",
   "nbconvert_exporter": "python",
   "pygments_lexer": "ipython3",
   "version": "3.11.11"
  }
 },
 "nbformat": 4,
 "nbformat_minor": 5
}
