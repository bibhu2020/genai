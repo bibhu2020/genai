{
 "cells": [
  {
   "cell_type": "markdown",
   "id": "b4994bc7",
   "metadata": {},
   "source": [
    "## Data Tranformer - Text Splitter"
   ]
  },
  {
   "cell_type": "code",
   "execution_count": null,
   "id": "2f0a6ef3",
   "metadata": {},
   "outputs": [],
   "source": [
    "## PDF Loader\n",
    "from langchain_community.document_loaders import PyPDFLoader\n",
    "loader = PyPDFLoader('./_data/gk.pdf')\n",
    "docs = loader.load()\n",
    "docs"
   ]
  },
  {
   "cell_type": "code",
   "execution_count": null,
   "id": "41c6b162",
   "metadata": {},
   "outputs": [],
   "source": [
    "## Required Packages\n",
    "! pip install langchain-text-splitters langchain-community\n"
   ]
  },
  {
   "cell_type": "markdown",
   "id": "7c4ac49b",
   "metadata": {},
   "source": [
    "### RecursiveCharacterTextSplitter\n",
    "It is the recommended one for Generic Text. It's default separator list is [\"\\n\", \"\\n\\n\", \" \"]"
   ]
  },
  {
   "cell_type": "code",
   "execution_count": 20,
   "id": "dac7e278",
   "metadata": {},
   "outputs": [
    {
     "data": {
      "text/plain": [
       "[Document(metadata={'source': './_data/speech.txt'}, page_content=\"Good morning everyone,\\n\\nToday, I want to talk about something incredibly simple, yet profoundly powerful: small steps.\\n\\nIn a world obsessed with big wins and overnight success, we often forget that every great achievement starts with a single small action.\\n\\nWhether you're trying to learn a new skill, change a habit, or build something meaningful — it always begins with the decision to take one small step forward.\"),\n",
       " Document(metadata={'source': './_data/speech.txt'}, page_content=\"Think about the tallest buildings. They're built one brick at a time. Olympic athletes? They train for years, often making tiny improvements day after day.\\n\\nSo, the next time you feel overwhelmed by your goals, just focus on the next step. Not the next ten, not the whole staircase — just the next one.\\n\\nProgress isn’t always loud. Sometimes, it whispers.\\n\\nBut those whispers? They build momentum.\\n\\nAnd that momentum? It builds success.\\n\\nThank you.\")]"
      ]
     },
     "execution_count": 20,
     "metadata": {},
     "output_type": "execute_result"
    }
   ],
   "source": [
    "# Split text by characters recursively\n",
    "from langchain.text_splitter import RecursiveCharacterTextSplitter\n",
    "\n",
    "text_splitter = RecursiveCharacterTextSplitter(\n",
    "    chunk_size=500,\n",
    "    chunk_overlap=50\n",
    ")\n",
    "\n",
    "# chunks = text_splitter.create_documents([doc.page_content for doc in docs])\n",
    "\n",
    "# Note: the input here is a list of Document objects, not just strings.\n",
    "final_documents = text_splitter.split_documents(docs)\n",
    "\n",
    "final_documents[::]  # Display the first two chunks\n",
    "\n"
   ]
  },
  {
   "cell_type": "code",
   "execution_count": null,
   "id": "4e8818db",
   "metadata": {},
   "outputs": [],
   "source": [
    "## Text Loader\n",
    "from langchain_community.document_loaders import TextLoader\n",
    "\n",
    "loader = TextLoader('./_data/speech.txt', encoding='utf-8')\n",
    "docs = loader.load()\n",
    "\n",
    "docs"
   ]
  },
  {
   "cell_type": "code",
   "execution_count": null,
   "id": "127075fb",
   "metadata": {},
   "outputs": [],
   "source": [
    "from langchain.text_splitter import RecursiveCharacterTextSplitter\n",
    "\n",
    "\n",
    "with open('./_data/speech.txt', 'r', encoding='utf-8') as f:\n",
    "    speech = f.read()\n",
    "\n",
    "text_splitter = RecursiveCharacterTextSplitter(\n",
    "    chunk_size=80,\n",
    "    chunk_overlap=20\n",
    ")\n",
    "\n",
    "#final_documents = text_splitter.split_text(speech)\n",
    "\n",
    "# Note: the input here is a list of text strings, not Document objects.\n",
    "final_documents = text_splitter.create_documents([speech])\n",
    "final_documents[::]  # Display the first two chunks\n",
    "\n",
    "# print(final_documents[0].page_content)  # Display the content of the first chunk\n",
    "# print(final_documents[1].page_content)  # Display the content of the second chunk\n"
   ]
  },
  {
   "cell_type": "code",
   "execution_count": 18,
   "id": "f7625aed",
   "metadata": {},
   "outputs": [
    {
     "name": "stderr",
     "output_type": "stream",
     "text": [
      "Created a chunk of size 94, which is longer than the specified 80\n",
      "Created a chunk of size 136, which is longer than the specified 80\n",
      "Created a chunk of size 158, which is longer than the specified 80\n",
      "Created a chunk of size 155, which is longer than the specified 80\n",
      "Created a chunk of size 145, which is longer than the specified 80\n"
     ]
    },
    {
     "data": {
      "text/plain": [
       "[Document(metadata={}, page_content='Good morning everyone,'),\n",
       " Document(metadata={}, page_content='Today, I want to talk about something incredibly simple, yet profoundly powerful: small steps.'),\n",
       " Document(metadata={}, page_content='In a world obsessed with big wins and overnight success, we often forget that every great achievement starts with a single small action.'),\n",
       " Document(metadata={}, page_content=\"Whether you're trying to learn a new skill, change a habit, or build something meaningful — it always begins with the decision to take one small step forward.\"),\n",
       " Document(metadata={}, page_content=\"Think about the tallest buildings. They're built one brick at a time. Olympic athletes? They train for years, often making tiny improvements day after day.\"),\n",
       " Document(metadata={}, page_content='So, the next time you feel overwhelmed by your goals, just focus on the next step. Not the next ten, not the whole staircase — just the next one.'),\n",
       " Document(metadata={}, page_content='Progress isn’t always loud. Sometimes, it whispers.'),\n",
       " Document(metadata={}, page_content='But those whispers? They build momentum.\\nAnd that momentum? It builds success.'),\n",
       " Document(metadata={}, page_content='Thank you.')]"
      ]
     },
     "execution_count": 18,
     "metadata": {},
     "output_type": "execute_result"
    }
   ],
   "source": [
    "from langchain.text_splitter import CharacterTextSplitter\n",
    "\n",
    "with open('./_data/speech.txt', 'r', encoding='utf-8') as f:\n",
    "    speech = f.read()\n",
    "\n",
    "text_splitter = CharacterTextSplitter(\n",
    "    separator=\"\\n\",\n",
    "    chunk_size=80,\n",
    "    chunk_overlap=20\n",
    ")\n",
    "\n",
    "# Note: the input here is a list of text strings, not Document objects.\n",
    "final_documents = text_splitter.create_documents([speech])\n",
    "final_documents[::]\n"
   ]
  },
  {
   "cell_type": "markdown",
   "id": "1745912e",
   "metadata": {},
   "source": [
    "### HTMLHeaderTextSplitter\n",
    "It is a structure-aware chunker that splits document to HTML element levels and adds metadata for each header relevant to any given chunk."
   ]
  },
  {
   "cell_type": "code",
   "execution_count": 19,
   "id": "241bed5a",
   "metadata": {},
   "outputs": [
    {
     "data": {
      "text/plain": [
       "[Document(metadata={'Header 1': 'Introduction to AI'}, page_content='Introduction to AI'),\n",
       " Document(metadata={'Header 1': 'Introduction to AI'}, page_content='Artificial Intelligence (AI) is transforming how we live, work, and interact with the world.'),\n",
       " Document(metadata={'Header 1': 'Introduction to AI', 'Header 2': 'Applications of AI'}, page_content='Applications of AI'),\n",
       " Document(metadata={'Header 1': 'Introduction to AI', 'Header 2': 'Applications of AI'}, page_content='AI is being used in various industries including healthcare, finance, education, and entertainment.'),\n",
       " Document(metadata={'Header 1': 'Introduction to AI', 'Header 2': 'Applications of AI', 'Header 3': 'Healthcare'}, page_content='Healthcare'),\n",
       " Document(metadata={'Header 1': 'Introduction to AI', 'Header 2': 'Applications of AI', 'Header 3': 'Healthcare'}, page_content='AI helps in diagnostics, patient monitoring, and drug discovery.'),\n",
       " Document(metadata={'Header 1': 'Introduction to AI', 'Header 2': 'Applications of AI', 'Header 3': 'Finance'}, page_content='Finance'),\n",
       " Document(metadata={'Header 1': 'Introduction to AI', 'Header 2': 'Applications of AI', 'Header 3': 'Finance'}, page_content='Fraud detection and algorithmic trading are popular applications in finance.'),\n",
       " Document(metadata={'Header 1': 'Introduction to AI', 'Header 2': 'Challenges and Ethics'}, page_content='Challenges and Ethics'),\n",
       " Document(metadata={'Header 1': 'Introduction to AI', 'Header 2': 'Challenges and Ethics'}, page_content='There are growing concerns around AI fairness, transparency, and accountability.'),\n",
       " Document(metadata={'Header 1': 'Introduction to AI', 'Header 2': 'Future of AI'}, page_content='Future of AI'),\n",
       " Document(metadata={'Header 1': 'Introduction to AI', 'Header 2': 'Future of AI'}, page_content='The future of AI looks promising but requires responsible development and deployment.')]"
      ]
     },
     "execution_count": 19,
     "metadata": {},
     "output_type": "execute_result"
    }
   ],
   "source": [
    "from langchain.text_splitter import HTMLHeaderTextSplitter\n",
    "with open('./_data/sample.html', 'r', encoding='utf-8') as f:\n",
    "    html_string = f.read()\n",
    "\n",
    "headers_to_split_on = [\n",
    "    (\"h1\", \"Header 1\"),\n",
    "    (\"h2\", \"Header 2\"),\n",
    "    (\"h3\", \"Header 3\"),\n",
    "]\n",
    "\n",
    "html_splitter = HTMLHeaderTextSplitter(\n",
    "    headers_to_split_on=headers_to_split_on\n",
    ")\n",
    "\n",
    "final_documents = html_splitter.split_text(html_string)\n",
    "\n",
    "final_documents[::]"
   ]
  },
  {
   "cell_type": "code",
   "execution_count": 21,
   "id": "9382b775",
   "metadata": {},
   "outputs": [
    {
     "data": {
      "text/plain": [
       "[Document(metadata={}, page_content='Information Bar Modal Popup AlpineJS Font Awesome ChartJS <script src=\"https://cdnjs.cloudflare.com/ajax/libs/Chart.js/2.9.3/Chart.min.js\" integrity=\"sha256-R4pqcOYV8lt7snxMQO/HSbVCFRPMdrhAFMH+vr9giYI=\" crossorigin=\"anonymous\"></script>  \\nOAuth  \\nDocument  \\nOAuth Overview  \\nAuthorization Code Flow  \\nClient Credential Flow  \\nImplicit Flow  \\nPassword Credential Flow  \\nApi Call (Anonymous)  \\nRead KV - MI  \\nRead KV - FIC  \\nRead KV - CS  \\nRead Weather - 3rd Party  \\nSPA  \\nRead Users  \\ndocument.addEventListener(\"DOMContentLoaded\", function() {\\n            const activeItem = getCookie(\"activeNavItem\");\\n            const activeSubmenuItem = getCookie(\"activeSubmenuItem\");\\n            if (activeItem) {\\n                const activeElement = document.querySelector(`[onclick*=\"${activeItem}\"]`);\\n                if (activeElement) {\\n                    activeElement.classList.add(\"nav-item-active\");\\n                    const submenu = document.getElementById(activeItem);\\n                    submenu.classList.add(\"submenu-active\");\\n                    const icon = submenu.previousElementSibling.querySelector(\".fa-plus, .fa-minus\");\\n                    icon.classList.remove(\"fa-plus\");\\n                    icon.classList.add(\"fa-minus\");\\n                }\\n            }\\n            if (activeSubmenuItem) {\\n                const activeSubmenuElement = document.querySelector(`[data-submenu-id=\"${activeSubmenuItem}\"]`);\\n                if (activeSubmenuElement) {\\n                    activeSubmenuElement.classList.add(\"submenu-item-active\");\\n                    const parentSubmenu = activeSubmenuElement.closest(\\'.submenu\\');\\n                    parentSubmenu.classList.add(\"submenu-active\");\\n                    const icon = parentSubmenu.previousElementSibling.querySelector(\".fa-plus, .fa-minus\");\\n                    icon.classList.remove(\"fa-plus\");\\n                    icon.classList.add(\"fa-minus\");\\n                    parentSubmenu.previousElementSibling.classList.add(\"nav-item-active\");\\n                }\\n            }\\n        });\\n\\n        function toggleSubmenu(event, submenuId) {\\n            event.preventDefault();\\n            const submenu = document.getElementById(submenuId);\\n            const icon = submenu.previousElementSibling.querySelector(\".fa-plus, .fa-minus\");\\n\\n            // Close all open submenus except the one clicked\\n            document.querySelectorAll(\".submenu\").forEach(item => {\\n                if (item !== submenu) {\\n                    item.classList.remove(\"submenu-active\");\\n                    item.previousElementSibling.querySelector(\".fa-minus\")?.classList.add(\"fa-plus\");\\n                    item.previousElementSibling.querySelector(\".fa-minus\")?.classList.remove(\"fa-minus\");\\n                }\\n            });\\n\\n            submenu.classList.toggle(\"submenu-active\");\\n            icon.classList.toggle(\"fa-plus\");\\n            icon.classList.toggle(\"fa-minus\");\\n\\n            // Remove active class from all nav items\\n            document.querySelectorAll(\".nav-item\").forEach(item => item.classList.remove(\"nav-item-active\"));\\n\\n            // Add active class to the clicked nav item\\n            submenu.previousElementSibling.classList.add(\"nav-item-active\");\\n\\n            // Store the active nav item in a cookie\\n            setCookie(\"activeNavItem\", submenuId, 7);\\n        }\\n\\n        document.querySelectorAll(\\'.submenu-item\\').forEach(item => {\\n            item.addEventListener(\\'click\\', function() {\\n                // Remove active class from all submenu items\\n                document.querySelectorAll(\\'.submenu-item\\').forEach(subitem => subitem.classList.remove(\\'submenu-item-active\\'));\\n\\n                // Add active class to the clicked submenu item\\n                item.classList.add(\\'submenu-item-active\\');\\n\\n                // Store the active submenu item in a cookie\\n                setCookie(\\'activeSubmenuItem\\', item.getAttribute(\\'data-submenu-id\\'), 7);\\n            });\\n        });\\n\\n        function setCookie(name, value, days) {\\n            const d = new Date();\\n            d.setTime(d.getTime() + (days * 24 * 60 * 60 * 1000));\\n            const expires = \"expires=\" + d.toUTCString();\\n            document.cookie = name + \"=\" + value + \";\" + expires + \";path=/\";\\n        }\\n\\n        function getCookie(name) {\\n            const cname = name + \"=\";\\n            const decodedCookie = decodeURIComponent(document.cookie);\\n            const ca = decodedCookie.split(\\';\\');\\n            for (let i = 0; i < ca.length; i++) {\\n                let c = ca[i];\\n                while (c.charAt(0) == \\' \\') {\\n                    c = c.substring(1);\\n                }\\n                if (c.indexOf(cname) == 0) {\\n                    return c.substring(cname.length, c.length);\\n                }\\n            }\\n            return \"\";\\n        }  \\nDesktop Header Mobile Header & Nav  \\nCountdown Timer  \\nSign In  \\nDropdown Nav <button class=\"w-full bg-white cta-btn font-semibold py-2 mt-5 rounded-br-lg rounded-bl-lg rounded-tr-lg shadow-lg hover:shadow-xl hover:bg-gray-300 flex items-center justify-center\">\\n      <i class=\"fas fa-plus mr-3\"></i> New Report\\n  </button>  \\nOauth  \\nHome  \\nRead Weather - 3rd Party  \\nSign In  \\n// Function to decode a JWT token\\nfunction decodeJWT(token) {\\n    const payload = token.split(\\'.\\')[1];\\n    return JSON.parse(atob(payload));\\n}\\n\\n// Function to start the countdown\\nfunction startCountdown(expiryTime) {\\n    const countdownElement = document.getElementById(\\'countdown\\');\\n\\n    function updateCountdown() {\\n        const now = new Date().getTime();\\n        const distance = expiryTime * 1000 - now; // Convert expiryTime from seconds to milliseconds\\n\\n        if (distance < 0) {\\n            countdownElement.innerHTML = \"EXPIRED\";\\n            clearInterval(intervalId);\\n            return;\\n        }\\n\\n        const hours = Math.floor((distance % (1000 * 60 * 60 * 24)) / (1000 * 60 * 60));\\n        const minutes = Math.floor((distance % (1000 * 60 * 60)) / (1000 * 60));\\n        const seconds = Math.floor((distance % (1000 * 60)) / 1000);\\n\\n        countdownElement.innerHTML = `${hours.toString().padStart(2, \\'0\\')}:${minutes.toString().padStart(2, \\'0\\')}:${seconds.toString().padStart(2, \\'0\\')}`;\\n    }\\n\\n    // Update the countdown every second\\n    //**const intervalId = setInterval(updateCountdown, 1000);\\n    //**updateCountdown(); // Initial call to display immediately\\n}\\n\\n// Function to refresh the expiry time\\nfunction refreshExpiryTime() {\\n    const accessToken = getCookie(\\'accessToken\\');\\n\\n    if (accessToken) {\\n        const decodedToken = decodeJWT(accessToken);\\n        const expiryTime = decodedToken.exp;\\n        startCountdown(expiryTime);\\n    } else {\\n        console.error(\"Access token not found in cookies\");\\n        document.getElementById(\\'countdown\\').innerHTML = \"N/A\";\\n    }\\n}\\n\\n// Refresh the expiry time every 5 seconds\\n//**setInterval(refreshExpiryTime, 5000);\\n//**refreshExpiryTime(); // Initial call to set up countdown immediately  \\nFooter'),\n",
       " Document(metadata={'Header 1': 'OAuth Overview'}, page_content='OAuth Overview'),\n",
       " Document(metadata={'Header 1': 'OAuth Overview', 'Header 2': 'What is OAuth?'}, page_content='What is OAuth?'),\n",
       " Document(metadata={'Header 1': 'OAuth Overview', 'Header 2': 'What is OAuth?'}, page_content=\"OAuth is an open standard for access delegation, commonly used as a way to grant websites or applications limited access to their users' information without exposing passwords. OAuth allows third-party services to exchange and access data securely.  \\nOAuth is widely used for token-based authentication and authorization, enabling various types of applications to communicate securely.\"),\n",
       " Document(metadata={'Header 1': 'OAuth Overview', 'Header 2': 'Types of OAuth Flows'}, page_content='Types of OAuth Flows'),\n",
       " Document(metadata={}, page_content='Used for server-side applications where the client can securely store a client secret.  \\nAuthorization Code Flow:  \\nUsed for server-to-server communication where no user context is required.  \\nClient Credentials Flow:  \\nUsed for client-side applications (e.g., SPAs) where the client secret cannot be stored securely.  \\nImplicit Flow:  \\nUsed for trusted applications where the resource owner shares their credentials with the client.  \\nPassword Credentials Flow:  \\nBuilt by .  \\nBibhu Mishra  \\nAI Powered Technology Assistance  \\nOpen  \\nInformation  \\n×  \\nfunction getCookie(name) {\\n            const value = `; ${document.cookie}`;\\n            const parts = value.split(`; ${name}=`);\\n            if (parts.length === 2) return parts.pop().split(\\';\\').shift();\\n        }\\n    \\n        function isTokenExpired(token) {\\n            if (!token) return false; //if token is not existing, do nothing\\n            const payload = JSON.parse(atob(token.split(\\'.\\')[1]));\\n            const now = Math.floor(Date.now() / 1000);\\n            return payload.exp < now;\\n            //return true;\\n        }\\n    \\n        async function refreshTokenRequest() {\\n            try {\\n                const refreshToken = getCookie(\\'refreshToken\\'); // Assuming getCookie is a function that retrieves the refresh token from cookies\\n\\n                console.log(\"test ur rrefresh token: \" + refreshToken);\\n\\n                if (!refreshToken) {\\n                    console.error(\\'No refresh token found.\\');\\n                    return;\\n                }\\n\\n                const response = await fetch(\\'/auth/refresh-token\\', {\\n                    method: \\'POST\\',\\n                    headers: { \\'Content-Type\\': \\'application/json\\' },\\n                    body: JSON.stringify({ refreshToken }) // Send the refresh token in the body\\n                });\\n\\n                const data = await response.json();\\n\\n                if (response.ok && data.success) {\\n                    console.log(\\'Token refreshed successfully.\\');\\n                    location.reload();\\n                } else {\\n                    console.error(\\'Failed to refresh token.\\', data.message);\\n                }\\n            } catch (error) {\\n                console.error(\\'Error refreshing token:\\', error);\\n            }\\n        }\\n    \\n        function checkAndRefreshToken() {\\n            const accessToken = getCookie(\\'accessToken\\');\\n            const refreshToken = getCookie(\\'refreshToken\\');\\n\\n    \\n            console.log(\\'Access Token:\\', accessToken);\\n            console.log(\\'Refresh Token:\\', refreshToken);\\n    \\n            if (isTokenExpired(accessToken)) {\\n                if (confirm(\\'Your session is about to expire. Would you like to refresh your session?\\')) {\\n                    refreshTokenRequest();\\n                }\\n            }\\n        }\\n    \\n        //checkAndRefreshToken();\\n\\n        // Interval in milliseconds (15 minutes)\\n        const interval = 15 * 60 * 1000;\\n\\n        // Set up the interval\\n        //**setInterval(checkAndRefreshToken, interval);\\n\\n        function toggleModal() {\\n            const modal = document.getElementById(\\'infoModal\\');\\n            modal.style.display = modal.style.display === \\'block\\' ? \\'none\\' : \\'block\\';\\n        }')]"
      ]
     },
     "execution_count": 21,
     "metadata": {},
     "output_type": "execute_result"
    }
   ],
   "source": [
    "# Read the HTML content from a URL and split it by headers\n",
    "url = \"https://oauthv2app.azurewebsites.net/\"\n",
    "\n",
    "headers_to_split_on = [\n",
    "    (\"h1\", \"Header 1\"),\n",
    "    (\"h2\", \"Header 2\"),\n",
    "    (\"h3\", \"Header 3\"),\n",
    "]\n",
    "\n",
    "html_splitter = HTMLHeaderTextSplitter(\n",
    "    headers_to_split_on=headers_to_split_on\n",
    ")\n",
    "\n",
    "final_documents = html_splitter.split_text_from_url(url)\n",
    "\n",
    "final_documents[::]"
   ]
  },
  {
   "cell_type": "markdown",
   "id": "52008ade",
   "metadata": {},
   "source": [
    "### JSONTextSplitter\n",
    "It splits json data while allowing control over chunk sizes. It traverses json data depath first and builds smaller json chunks. It attempts to keep nested json objects whole but will split them if needed to keep chunks between a min_chunk_size and max_chunk_size."
   ]
  },
  {
   "cell_type": "code",
   "execution_count": 24,
   "id": "0081946a",
   "metadata": {},
   "outputs": [
    {
     "data": {
      "text/plain": [
       "[{'openapi': '3.1.0',\n",
       "  'info': {'title': 'LangSmith', 'version': '0.1.0'},\n",
       "  'paths': {'/api/v1/sessions/{session_id}/dashboard': {'post': {'tags': ['tracer-sessions'],\n",
       "     'summary': 'Get Tracing Project Prebuilt Dashboard',\n",
       "     'description': 'Get a prebuilt dashboard for a tracing project.'}}}},\n",
       " {'paths': {'/api/v1/sessions/{session_id}/dashboard': {'post': {'operationId': 'get_tracing_project_prebuilt_dashboard_api_v1_sessions__session_id__dashboard_post',\n",
       "     'security': [{'API Key': []}, {'Tenant ID': []}, {'Bearer Auth': []}]}}}},\n",
       " {'paths': {'/api/v1/sessions/{session_id}/dashboard': {'post': {'parameters': [{'name': 'session_id',\n",
       "       'in': 'path',\n",
       "       'required': True,\n",
       "       'schema': {'type': 'string', 'format': 'uuid', 'title': 'Session Id'}},\n",
       "      {'name': 'accept',\n",
       "       'in': 'header',\n",
       "       'required': False,\n",
       "       'schema': {'anyOf': [{'type': 'string'}, {'type': 'null'}],\n",
       "        'title': 'Accept'}}]}}}}]"
      ]
     },
     "execution_count": 24,
     "metadata": {},
     "output_type": "execute_result"
    }
   ],
   "source": [
    "import requests\n",
    "import json\n",
    "from langchain.text_splitter import RecursiveJsonSplitter\n",
    "\n",
    "url = \"https://api.smith.langchain.com/openapi.json\"\n",
    "response = requests.get(url)\n",
    "\n",
    "openapi_data = \"\"\n",
    "if response.status_code == 200:\n",
    "    openapi_data = response.json()\n",
    "    \n",
    "splitter = RecursiveJsonSplitter(\n",
    "    max_chunk_size=300,\n",
    ")\n",
    "json_chunks = splitter.split_json(openapi_data)\n",
    "json_chunks[:3:]  # Display the first two chunks "
   ]
  },
  {
   "cell_type": "code",
   "execution_count": 27,
   "id": "80e3a577",
   "metadata": {},
   "outputs": [
    {
     "data": {
      "text/plain": [
       "[Document(metadata={}, page_content='{\"openapi\": \"3.1.0\", \"info\": {\"title\": \"LangSmith\", \"version\": \"0.1.0\"}, \"paths\": {\"/api/v1/sessions/{session_id}/dashboard\": {\"post\": {\"tags\": [\"tracer-sessions\"], \"summary\": \"Get Tracing Project Prebuilt Dashboard\", \"description\": \"Get a prebuilt dashboard for a tracing project.\"}}}}'),\n",
       " Document(metadata={}, page_content='{\"paths\": {\"/api/v1/sessions/{session_id}/dashboard\": {\"post\": {\"operationId\": \"get_tracing_project_prebuilt_dashboard_api_v1_sessions__session_id__dashboard_post\", \"security\": [{\"API Key\": []}, {\"Tenant ID\": []}, {\"Bearer Auth\": []}]}}}}'),\n",
       " Document(metadata={}, page_content='{\"paths\": {\"/api/v1/sessions/{session_id}/dashboard\": {\"post\": {\"parameters\": [{\"name\": \"session_id\", \"in\": \"path\", \"required\": true, \"schema\": {\"type\": \"string\", \"format\": \"uuid\", \"title\": \"Session Id\"}}, {\"name\": \"accept\", \"in\": \"header\", \"required\": false, \"schema\": {\"anyOf\": [{\"type\": \"string\"}, {\"type\": \"null\"}], \"title\": \"Accept\"}}]}}}}')]"
      ]
     },
     "execution_count": 27,
     "metadata": {},
     "output_type": "execute_result"
    }
   ],
   "source": [
    "import requests\n",
    "import json\n",
    "from langchain.text_splitter import RecursiveJsonSplitter\n",
    "\n",
    "url = \"https://api.smith.langchain.com/openapi.json\"\n",
    "response = requests.get(url)\n",
    "\n",
    "openapi_data = \"\"\n",
    "if response.status_code == 200:\n",
    "    openapi_data = response.json()\n",
    "    \n",
    "splitter = RecursiveJsonSplitter(\n",
    "    max_chunk_size=300,\n",
    ")\n",
    "final_documents = splitter.create_documents(texts=[openapi_data])\n",
    "final_documents[:3:]  # Display the first two chunks "
   ]
  }
 ],
 "metadata": {
  "kernelspec": {
   "display_name": ".langchain",
   "language": "python",
   "name": "python3"
  },
  "language_info": {
   "codemirror_mode": {
    "name": "ipython",
    "version": 3
   },
   "file_extension": ".py",
   "mimetype": "text/x-python",
   "name": "python",
   "nbconvert_exporter": "python",
   "pygments_lexer": "ipython3",
   "version": "3.11.11"
  }
 },
 "nbformat": 4,
 "nbformat_minor": 5
}
