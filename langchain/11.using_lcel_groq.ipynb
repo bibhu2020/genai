{
 "cells": [
  {
   "cell_type": "markdown",
   "id": "1e6b7ce7",
   "metadata": {},
   "source": [
    "## LCEL (LangChain Expression Language)\n",
    "LCEL is used to chain components together. We will learn it by building a **translator** application that would translate english into other languages. \n",
    "\n",
    "LangChain components in use here are:\n",
    "\n",
    "- LLM (GROQ)\n",
    "\n",
    "- PromptTemplates\n",
    "\n",
    "- OutputParsers\n",
    "\n",
    "- LCEL\n",
    "\n",
    "- LangSmith\n",
    "\n",
    "- LangServer"
   ]
  },
  {
   "cell_type": "markdown",
   "id": "1c828008",
   "metadata": {},
   "source": [
    "### Why Groq?\n",
    "Groq is the AI infrastructure company that delivers fast AI inference. It uses LPU (Language Processing Unit) inference engine which delivers exceptional compute speed, quality and energy efficiency. **Today, it is the fastest inference for computationally intesive applications** with sequential components such as AI language applications like LLMs.\n",
    "\n",
    "It is designed to overcome 2 LLM bottlenecks: compute density and memory bandwith.\n",
    "\n",
    "It provides APIs to call LLMs hosted on Groq."
   ]
  },
  {
   "cell_type": "code",
   "execution_count": null,
   "id": "de82b3aa",
   "metadata": {},
   "outputs": [],
   "source": [
    "# install required packages\n",
    "! pip install langchain-groq"
   ]
  },
  {
   "cell_type": "code",
   "execution_count": null,
   "id": "240cc7f4",
   "metadata": {},
   "outputs": [],
   "source": [
    "# Step1: initialize the LLM hosted on Groq. (must store the API key in the environment variable GROQ_API_KEY)\n",
    "from langchain_groq import ChatGroq\n",
    "llm = ChatGroq(model=\"Gemma2-9b-It\", max_tokens=512)\n",
    "llm"
   ]
  },
  {
   "cell_type": "code",
   "execution_count": null,
   "id": "db8da95f",
   "metadata": {},
   "outputs": [],
   "source": [
    "! pip install langchain_core"
   ]
  },
  {
   "cell_type": "code",
   "execution_count": 17,
   "id": "b533c34b",
   "metadata": {},
   "outputs": [
    {
     "name": "stdout",
     "output_type": "stream",
     "text": [
      "Bonjour, comment allez-vous ? \n",
      "\n"
     ]
    }
   ],
   "source": [
    "from langchain_core.messages import HumanMessage, AIMessage, SystemMessage\n",
    "# from langchain_core.output_parsers import StrOutputParsert \n",
    "\n",
    "messages = [\n",
    "    SystemMessage(content=\"Translate the input from English to French\"),\n",
    "    HumanMessage(content=\"Hello, how are you?\"),\n",
    "    ]\n",
    "\n",
    "result = llm.invoke(messages)\n",
    "#print(result)\n",
    "\n",
    "\n",
    "from langchain_core.output_parsers import StrOutputParser\n",
    "\n",
    "chain = llm | StrOutputParser()\n",
    "result = chain.invoke(messages)\n",
    "print(result)\n"
   ]
  },
  {
   "cell_type": "code",
   "execution_count": 23,
   "id": "07b3ed73",
   "metadata": {},
   "outputs": [
    {
     "name": "stdout",
     "output_type": "stream",
     "text": [
      "नमस्ते, आप कैसे हैं?  (Namaste, aap kaise hain?) \n",
      "\n"
     ]
    }
   ],
   "source": [
    "from langchain_core.prompts import ChatPromptTemplate\n",
    "from langchain_core.output_parsers import StrOutputParser\n",
    "\n",
    "generic_template = \"Translate the input into {language}\"\n",
    "prompt = ChatPromptTemplate.from_messages(\n",
    "    [(\"system\", generic_template),\n",
    "     (\"human\", \"{text}\")]\n",
    ")\n",
    "\n",
    "parser = StrOutputParser()\n",
    "\n",
    "chain = prompt | llm | parser\n",
    "result = chain.invoke({\"language\": \"Hindi\", \"text\": \"Hello, how are you?\"})\n",
    "print(result)\n",
    "\n"
   ]
  }
 ],
 "metadata": {
  "kernelspec": {
   "display_name": ".langchain",
   "language": "python",
   "name": "python3"
  },
  "language_info": {
   "codemirror_mode": {
    "name": "ipython",
    "version": 3
   },
   "file_extension": ".py",
   "mimetype": "text/x-python",
   "name": "python",
   "nbconvert_exporter": "python",
   "pygments_lexer": "ipython3",
   "version": "3.11.11"
  }
 },
 "nbformat": 4,
 "nbformat_minor": 5
}
